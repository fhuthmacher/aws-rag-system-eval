{
 "cells": [
  {
   "cell_type": "markdown",
   "id": "be8da33c-eeb6-4d72-a0fc-89f9fb6a19fc",
   "metadata": {
    "tags": []
   },
   "source": [
    "# RAG System Component Evaluation\n",
    "    \n",
    "This notebook is a follow up from the previous [notebook](https://github.com/fhuthmacher/LLMevaluation/blob/main/LLMInformationExtraction.ipynb) and [youtube video](https://www.youtube.com/watch?v=HUuO9eJbOTk) in which we explored the overall evaluation approach and a RAG system's overall accuracy.\n",
    "\n",
    "This notebook we will take a closer look at specific RAG evaluation metrics and explore how different RAG components impact these RAG evaluation metrics.\n",
    "\n"
   ]
  },
  {
   "cell_type": "markdown",
   "id": "ad47020c-9266-4740-99c2-0d330b90d460",
   "metadata": {},
   "source": [
    "## Solution architecture\n",
    "<img src=\"https://d3q8adh3y5sxpk.cloudfront.net/meetingrecordings/rageval/architecture.png\" alt=\"RAG eval architecture\" width=\"900\" height=\"550\">\n",
    "\n",
    "From the solution architecture, we will experiment with the below RAG components and evaluate the impact on several metric's relevant for RAG.\n",
    "\n",
    "- 1) Text Splitter: TokenTextSplitter vs CharacterTextSplitter\n",
    "- 2) Embedding model: amazon.titan-embed-text-v1 vs cohere.embed-multilingual-v3 \n",
    "- 3) Retriever: OpenSearch VectoreStoreRetriever search types “similarity” vs “mmr” vs Bedrock KnowledgeBase retriever\n",
    "- 4) Prompt Template: For each LLM we evaluate two different prompt templates\n"
   ]
  },
  {
   "cell_type": "markdown",
   "id": "3b4514e6",
   "metadata": {},
   "source": [
    "## RAG evaluation metrics\n",
    "\n",
    "This notebook focuses on the following metrics:\n",
    "1) RAGAS:\n",
    "-  a. context_precision: evaluates whether all of the ground-truth relevant items are present in the contexts are ranked higher or not. Ideally all the relevant chunks must appear at the top ranks. Values range from 0 to 1, higher scores indicate better precision.\n",
    "-  b. faithfulness: measures the factual consistency of the generated answer against the given context. It is calculated from answer and retrieved context. Values range from 0 to 1, with higher values indicating better performance.  \n",
    "-  c. context_recall: measures the extent to which the retrieved context aligns with the annotated answer, treated as the ground truth. Values range from 0 to 1, with higher values indicating better performance.\n",
    "-  d. answer_relevancy: focuses on assessing how pertinent the generated answer is to the given prompt. A lower score is assigned to answers that are incomplete or contain redundant information. This metric is computed using the question and the answer, with values ranging between 0 and 1 where higher scores indicate better relevancy.\n",
    "-  e. answer_correctness¶: the accuracy of the generated answer when compared to the ground truth. This evaluation relies on the ground truth and the answer, with scores ranging from 0 to 1  where higher scores indicate better relevancy.\n",
    "-  f. answer_similarity: Scores the semantic similarity of ground truth with generated answer, with values ranging between 0 and 1 where higher scores indicate better relevancy.\n",
    "\n",
    "Further information on RAG evaluation metrics with RAGAS can be found [here](https://docs.ragas.io/en/latest/concepts/metrics/index.html).\n",
    "\n",
    "\n",
    "2) LlamaIndex: \n",
    "-  a. Faithfulness: measure if the response from a query engine matches any source nodes. Returns a score between 0 and 1, where 1 means the response is faithful to the retrieved contexts.\n",
    "-  b. Relevancy: measure if the response and source nodes match the query. Returns a score that is between 0 and 1 as well as a generated feedback explaining the score, higher score means higher relevancy. \n",
    "-  c. Correctness: assess the relevance and correctness of a generated answer against a reference answer. Returns a score between 0 and 5, where 5 means the response is correct.\n",
    "-  d. Semantic Similarity: evaluates the quality of a question answering system via semantic similarity, values ranging between 0 and 1 where higher scores indicate better relevancy.\n",
    "\n",
    "Further information on LlamaIndex Evaluators can be found [here](https://docs.llamaindex.ai/en/stable/module_guides/evaluating/).\n",
    "\n",
    "Intuitively we expect to see a strong correlation between respective RAGAS and LlamaIndex Evaluator metrics.\n",
    "\n",
    "While this notebook tracks metrics with mlflow, it is not required for the evaluation. If you want to learn more about how to configure mlflow in your environment, please refer to this [AWS Blog](https://aws.amazon.com/blogs/machine-learning/securing-mlflow-in-aws-fine-grained-access-control-with-aws-native-services/)."
   ]
  },
  {
   "cell_type": "markdown",
   "id": "058b3b3a",
   "metadata": {},
   "source": [
    "<img src=\"https://d3q8adh3y5sxpk.cloudfront.net/meetingrecordings/rageval/RAGevalmetrics.png\" alt=\"LLM selection process\" width=\"900\" height=\"550\">"
   ]
  },
  {
   "cell_type": "code",
   "execution_count": 1,
   "id": "d744babb",
   "metadata": {},
   "outputs": [
    {
     "name": "stdout",
     "output_type": "stream",
     "text": [
      "All packages are installed\n"
     ]
    }
   ],
   "source": [
    "# check installed packages\n",
    "with open('requirements.txt') as f:\n",
    "  requirements = f.readlines()\n",
    "\n",
    "import pkg_resources\n",
    "\n",
    "installed_packages = [d for d in pkg_resources.working_set]\n",
    "\n",
    "installed_packages = [package.project_name for package in installed_packages]\n",
    "\n",
    "missing_packages = []\n",
    "\n",
    "for requirement in requirements:\n",
    "  requirement = requirement.strip().split('==')[0]\n",
    "  if requirement not in installed_packages and requirement !='./ragas-aws-1.0.tar.gz':\n",
    "    missing_packages.append(requirement)\n",
    "\n",
    "if missing_packages:\n",
    "  print(f\"Missing packages: {', '.join(missing_packages)}\")\n",
    "else: \n",
    "  print(\"All packages are installed\")\n",
    "\n"
   ]
  },
  {
   "cell_type": "code",
   "execution_count": 2,
   "id": "ea6dd86c-115c-49b9-b112-548edf312d33",
   "metadata": {
    "tags": []
   },
   "outputs": [],
   "source": [
    "# if there are any missing dependencies, install packages\n",
    "if missing_packages:\n",
    "    # install dependencies\n",
    "    %pip install --force-reinstall --no-cache -r requirements.txt"
   ]
  },
  {
   "cell_type": "code",
   "execution_count": 3,
   "id": "40e9545b",
   "metadata": {},
   "outputs": [],
   "source": [
    "# Append your RagasBedrock package path\n",
    "import sys\n",
    "sys.path.append(\"./ragas/\")"
   ]
  },
  {
   "cell_type": "code",
   "execution_count": 4,
   "id": "04974d66",
   "metadata": {},
   "outputs": [
    {
     "name": "stdout",
     "output_type": "stream",
     "text": [
      "\u001b[33mWARNING: Ignoring invalid distribution ~illow (/home/sagemaker-user/aws-rag-system-eval/.conda/lib/python3.11/site-packages)\u001b[0m\u001b[33m\n",
      "\u001b[0mRequirement already satisfied: jupyter in ./.conda/lib/python3.11/site-packages (1.0.0)\n",
      "Requirement already satisfied: notebook in ./.conda/lib/python3.11/site-packages (from jupyter) (7.1.2)\n",
      "Requirement already satisfied: qtconsole in ./.conda/lib/python3.11/site-packages (from jupyter) (5.5.1)\n",
      "Requirement already satisfied: jupyter-console in ./.conda/lib/python3.11/site-packages (from jupyter) (6.6.3)\n",
      "Requirement already satisfied: nbconvert in ./.conda/lib/python3.11/site-packages (from jupyter) (7.16.3)\n",
      "Requirement already satisfied: ipykernel in ./.conda/lib/python3.11/site-packages (from jupyter) (6.29.3)\n",
      "Requirement already satisfied: ipywidgets in ./.conda/lib/python3.11/site-packages (from jupyter) (8.1.2)\n",
      "Requirement already satisfied: comm>=0.1.1 in ./.conda/lib/python3.11/site-packages (from ipykernel->jupyter) (0.2.2)\n",
      "Requirement already satisfied: debugpy>=1.6.5 in ./.conda/lib/python3.11/site-packages (from ipykernel->jupyter) (1.6.7)\n",
      "Requirement already satisfied: ipython>=7.23.1 in ./.conda/lib/python3.11/site-packages (from ipykernel->jupyter) (8.23.0)\n",
      "Requirement already satisfied: jupyter-client>=6.1.12 in ./.conda/lib/python3.11/site-packages (from ipykernel->jupyter) (8.6.1)\n",
      "Requirement already satisfied: jupyter-core!=5.0.*,>=4.12 in ./.conda/lib/python3.11/site-packages (from ipykernel->jupyter) (5.7.2)\n",
      "Requirement already satisfied: matplotlib-inline>=0.1 in ./.conda/lib/python3.11/site-packages (from ipykernel->jupyter) (0.1.7)\n",
      "Requirement already satisfied: nest-asyncio in ./.conda/lib/python3.11/site-packages (from ipykernel->jupyter) (1.6.0)\n",
      "Requirement already satisfied: packaging in ./.conda/lib/python3.11/site-packages (from ipykernel->jupyter) (23.2)\n",
      "Requirement already satisfied: psutil in ./.conda/lib/python3.11/site-packages (from ipykernel->jupyter) (5.9.8)\n",
      "Requirement already satisfied: pyzmq>=24 in ./.conda/lib/python3.11/site-packages (from ipykernel->jupyter) (25.1.2)\n",
      "Requirement already satisfied: tornado>=6.1 in ./.conda/lib/python3.11/site-packages (from ipykernel->jupyter) (6.4)\n",
      "Requirement already satisfied: traitlets>=5.4.0 in ./.conda/lib/python3.11/site-packages (from ipykernel->jupyter) (5.14.3)\n",
      "Requirement already satisfied: widgetsnbextension~=4.0.10 in ./.conda/lib/python3.11/site-packages (from ipywidgets->jupyter) (4.0.10)\n",
      "Requirement already satisfied: jupyterlab-widgets~=3.0.10 in ./.conda/lib/python3.11/site-packages (from ipywidgets->jupyter) (3.0.10)\n",
      "Requirement already satisfied: prompt-toolkit>=3.0.30 in ./.conda/lib/python3.11/site-packages (from jupyter-console->jupyter) (3.0.43)\n",
      "Requirement already satisfied: pygments in ./.conda/lib/python3.11/site-packages (from jupyter-console->jupyter) (2.17.2)\n",
      "Requirement already satisfied: beautifulsoup4 in ./.conda/lib/python3.11/site-packages (from nbconvert->jupyter) (4.12.3)\n",
      "Requirement already satisfied: bleach!=5.0.0 in ./.conda/lib/python3.11/site-packages (from nbconvert->jupyter) (6.1.0)\n",
      "Requirement already satisfied: defusedxml in ./.conda/lib/python3.11/site-packages (from nbconvert->jupyter) (0.7.1)\n",
      "Requirement already satisfied: jinja2>=3.0 in ./.conda/lib/python3.11/site-packages (from nbconvert->jupyter) (3.1.3)\n",
      "Requirement already satisfied: jupyterlab-pygments in ./.conda/lib/python3.11/site-packages (from nbconvert->jupyter) (0.3.0)\n",
      "Requirement already satisfied: markupsafe>=2.0 in ./.conda/lib/python3.11/site-packages (from nbconvert->jupyter) (2.1.5)\n",
      "Requirement already satisfied: mistune<4,>=2.0.3 in ./.conda/lib/python3.11/site-packages (from nbconvert->jupyter) (3.0.2)\n",
      "Requirement already satisfied: nbclient>=0.5.0 in ./.conda/lib/python3.11/site-packages (from nbconvert->jupyter) (0.10.0)\n",
      "Requirement already satisfied: nbformat>=5.7 in ./.conda/lib/python3.11/site-packages (from nbconvert->jupyter) (5.9.2)\n",
      "Requirement already satisfied: pandocfilters>=1.4.1 in ./.conda/lib/python3.11/site-packages (from nbconvert->jupyter) (1.5.1)\n",
      "Requirement already satisfied: tinycss2 in ./.conda/lib/python3.11/site-packages (from nbconvert->jupyter) (1.2.1)\n",
      "Requirement already satisfied: jupyter-server<3,>=2.4.0 in ./.conda/lib/python3.11/site-packages (from notebook->jupyter) (2.13.0)\n",
      "Requirement already satisfied: jupyterlab-server<3,>=2.22.1 in ./.conda/lib/python3.11/site-packages (from notebook->jupyter) (2.25.4)\n",
      "Requirement already satisfied: jupyterlab<4.2,>=4.1.1 in ./.conda/lib/python3.11/site-packages (from notebook->jupyter) (4.1.5)\n",
      "Requirement already satisfied: notebook-shim<0.3,>=0.2 in ./.conda/lib/python3.11/site-packages (from notebook->jupyter) (0.2.4)\n",
      "Requirement already satisfied: qtpy>=2.4.0 in ./.conda/lib/python3.11/site-packages (from qtconsole->jupyter) (2.4.1)\n",
      "Requirement already satisfied: six>=1.9.0 in ./.conda/lib/python3.11/site-packages (from bleach!=5.0.0->nbconvert->jupyter) (1.16.0)\n",
      "Requirement already satisfied: webencodings in ./.conda/lib/python3.11/site-packages (from bleach!=5.0.0->nbconvert->jupyter) (0.5.1)\n",
      "Requirement already satisfied: decorator in ./.conda/lib/python3.11/site-packages (from ipython>=7.23.1->ipykernel->jupyter) (5.1.1)\n",
      "Requirement already satisfied: jedi>=0.16 in ./.conda/lib/python3.11/site-packages (from ipython>=7.23.1->ipykernel->jupyter) (0.19.1)\n",
      "Requirement already satisfied: stack-data in ./.conda/lib/python3.11/site-packages (from ipython>=7.23.1->ipykernel->jupyter) (0.6.3)\n",
      "Requirement already satisfied: typing-extensions in ./.conda/lib/python3.11/site-packages (from ipython>=7.23.1->ipykernel->jupyter) (4.11.0)\n",
      "Requirement already satisfied: pexpect>4.3 in ./.conda/lib/python3.11/site-packages (from ipython>=7.23.1->ipykernel->jupyter) (4.9.0)\n",
      "Requirement already satisfied: python-dateutil>=2.8.2 in ./.conda/lib/python3.11/site-packages (from jupyter-client>=6.1.12->ipykernel->jupyter) (2.9.0.post0)\n",
      "Requirement already satisfied: platformdirs>=2.5 in ./.conda/lib/python3.11/site-packages (from jupyter-core!=5.0.*,>=4.12->ipykernel->jupyter) (4.2.0)\n",
      "Requirement already satisfied: anyio>=3.1.0 in ./.conda/lib/python3.11/site-packages (from jupyter-server<3,>=2.4.0->notebook->jupyter) (4.3.0)\n",
      "Requirement already satisfied: argon2-cffi in ./.conda/lib/python3.11/site-packages (from jupyter-server<3,>=2.4.0->notebook->jupyter) (23.1.0)\n",
      "Requirement already satisfied: jupyter-events>=0.9.0 in ./.conda/lib/python3.11/site-packages (from jupyter-server<3,>=2.4.0->notebook->jupyter) (0.10.0)\n",
      "Requirement already satisfied: jupyter-server-terminals in ./.conda/lib/python3.11/site-packages (from jupyter-server<3,>=2.4.0->notebook->jupyter) (0.5.3)\n",
      "Requirement already satisfied: overrides in ./.conda/lib/python3.11/site-packages (from jupyter-server<3,>=2.4.0->notebook->jupyter) (7.7.0)\n",
      "Requirement already satisfied: prometheus-client in ./.conda/lib/python3.11/site-packages (from jupyter-server<3,>=2.4.0->notebook->jupyter) (0.20.0)\n",
      "Requirement already satisfied: send2trash>=1.8.2 in ./.conda/lib/python3.11/site-packages (from jupyter-server<3,>=2.4.0->notebook->jupyter) (1.8.2)\n",
      "Requirement already satisfied: terminado>=0.8.3 in ./.conda/lib/python3.11/site-packages (from jupyter-server<3,>=2.4.0->notebook->jupyter) (0.18.1)\n",
      "Requirement already satisfied: websocket-client in ./.conda/lib/python3.11/site-packages (from jupyter-server<3,>=2.4.0->notebook->jupyter) (1.7.0)\n",
      "Requirement already satisfied: async-lru>=1.0.0 in ./.conda/lib/python3.11/site-packages (from jupyterlab<4.2,>=4.1.1->notebook->jupyter) (2.0.4)\n",
      "Requirement already satisfied: httpx>=0.25.0 in ./.conda/lib/python3.11/site-packages (from jupyterlab<4.2,>=4.1.1->notebook->jupyter) (0.27.0)\n",
      "Requirement already satisfied: jupyter-lsp>=2.0.0 in ./.conda/lib/python3.11/site-packages (from jupyterlab<4.2,>=4.1.1->notebook->jupyter) (2.2.4)\n",
      "Requirement already satisfied: babel>=2.10 in ./.conda/lib/python3.11/site-packages (from jupyterlab-server<3,>=2.22.1->notebook->jupyter) (2.14.0)\n",
      "Requirement already satisfied: json5>=0.9.0 in ./.conda/lib/python3.11/site-packages (from jupyterlab-server<3,>=2.22.1->notebook->jupyter) (0.9.24)\n",
      "Requirement already satisfied: jsonschema>=4.18.0 in ./.conda/lib/python3.11/site-packages (from jupyterlab-server<3,>=2.22.1->notebook->jupyter) (4.21.1)\n",
      "Requirement already satisfied: requests>=2.31 in ./.conda/lib/python3.11/site-packages (from jupyterlab-server<3,>=2.22.1->notebook->jupyter) (2.31.0)\n",
      "Requirement already satisfied: fastjsonschema in ./.conda/lib/python3.11/site-packages (from nbformat>=5.7->nbconvert->jupyter) (2.19.1)\n",
      "Requirement already satisfied: wcwidth in ./.conda/lib/python3.11/site-packages (from prompt-toolkit>=3.0.30->jupyter-console->jupyter) (0.2.13)\n",
      "Requirement already satisfied: soupsieve>1.2 in ./.conda/lib/python3.11/site-packages (from beautifulsoup4->nbconvert->jupyter) (2.5)\n",
      "Requirement already satisfied: idna>=2.8 in ./.conda/lib/python3.11/site-packages (from anyio>=3.1.0->jupyter-server<3,>=2.4.0->notebook->jupyter) (3.7)\n",
      "Requirement already satisfied: sniffio>=1.1 in ./.conda/lib/python3.11/site-packages (from anyio>=3.1.0->jupyter-server<3,>=2.4.0->notebook->jupyter) (1.3.1)\n",
      "Requirement already satisfied: certifi in ./.conda/lib/python3.11/site-packages (from httpx>=0.25.0->jupyterlab<4.2,>=4.1.1->notebook->jupyter) (2024.2.2)\n",
      "Requirement already satisfied: httpcore==1.* in ./.conda/lib/python3.11/site-packages (from httpx>=0.25.0->jupyterlab<4.2,>=4.1.1->notebook->jupyter) (1.0.5)\n",
      "Requirement already satisfied: h11<0.15,>=0.13 in ./.conda/lib/python3.11/site-packages (from httpcore==1.*->httpx>=0.25.0->jupyterlab<4.2,>=4.1.1->notebook->jupyter) (0.14.0)\n",
      "Requirement already satisfied: parso<0.9.0,>=0.8.3 in ./.conda/lib/python3.11/site-packages (from jedi>=0.16->ipython>=7.23.1->ipykernel->jupyter) (0.8.4)\n",
      "Requirement already satisfied: attrs>=22.2.0 in ./.conda/lib/python3.11/site-packages (from jsonschema>=4.18.0->jupyterlab-server<3,>=2.22.1->notebook->jupyter) (23.2.0)\n",
      "Requirement already satisfied: jsonschema-specifications>=2023.03.6 in ./.conda/lib/python3.11/site-packages (from jsonschema>=4.18.0->jupyterlab-server<3,>=2.22.1->notebook->jupyter) (2023.12.1)\n",
      "Requirement already satisfied: referencing>=0.28.4 in ./.conda/lib/python3.11/site-packages (from jsonschema>=4.18.0->jupyterlab-server<3,>=2.22.1->notebook->jupyter) (0.34.0)\n",
      "Requirement already satisfied: rpds-py>=0.7.1 in ./.conda/lib/python3.11/site-packages (from jsonschema>=4.18.0->jupyterlab-server<3,>=2.22.1->notebook->jupyter) (0.18.0)\n",
      "Requirement already satisfied: python-json-logger>=2.0.4 in ./.conda/lib/python3.11/site-packages (from jupyter-events>=0.9.0->jupyter-server<3,>=2.4.0->notebook->jupyter) (2.0.7)\n",
      "Requirement already satisfied: pyyaml>=5.3 in ./.conda/lib/python3.11/site-packages (from jupyter-events>=0.9.0->jupyter-server<3,>=2.4.0->notebook->jupyter) (6.0.1)\n",
      "Requirement already satisfied: rfc3339-validator in ./.conda/lib/python3.11/site-packages (from jupyter-events>=0.9.0->jupyter-server<3,>=2.4.0->notebook->jupyter) (0.1.4)\n",
      "Requirement already satisfied: rfc3986-validator>=0.1.1 in ./.conda/lib/python3.11/site-packages (from jupyter-events>=0.9.0->jupyter-server<3,>=2.4.0->notebook->jupyter) (0.1.1)\n",
      "Requirement already satisfied: ptyprocess>=0.5 in ./.conda/lib/python3.11/site-packages (from pexpect>4.3->ipython>=7.23.1->ipykernel->jupyter) (0.7.0)\n",
      "Requirement already satisfied: charset-normalizer<4,>=2 in ./.conda/lib/python3.11/site-packages (from requests>=2.31->jupyterlab-server<3,>=2.22.1->notebook->jupyter) (3.3.2)\n",
      "Requirement already satisfied: urllib3<3,>=1.21.1 in ./.conda/lib/python3.11/site-packages (from requests>=2.31->jupyterlab-server<3,>=2.22.1->notebook->jupyter) (1.26.18)\n",
      "Requirement already satisfied: argon2-cffi-bindings in ./.conda/lib/python3.11/site-packages (from argon2-cffi->jupyter-server<3,>=2.4.0->notebook->jupyter) (21.2.0)\n",
      "Requirement already satisfied: executing>=1.2.0 in ./.conda/lib/python3.11/site-packages (from stack-data->ipython>=7.23.1->ipykernel->jupyter) (2.0.1)\n",
      "Requirement already satisfied: asttokens>=2.1.0 in ./.conda/lib/python3.11/site-packages (from stack-data->ipython>=7.23.1->ipykernel->jupyter) (2.4.1)\n",
      "Requirement already satisfied: pure-eval in ./.conda/lib/python3.11/site-packages (from stack-data->ipython>=7.23.1->ipykernel->jupyter) (0.2.2)\n",
      "Requirement already satisfied: fqdn in ./.conda/lib/python3.11/site-packages (from jsonschema[format-nongpl]>=4.18.0->jupyter-events>=0.9.0->jupyter-server<3,>=2.4.0->notebook->jupyter) (1.5.1)\n",
      "Requirement already satisfied: isoduration in ./.conda/lib/python3.11/site-packages (from jsonschema[format-nongpl]>=4.18.0->jupyter-events>=0.9.0->jupyter-server<3,>=2.4.0->notebook->jupyter) (20.11.0)\n",
      "Requirement already satisfied: jsonpointer>1.13 in ./.conda/lib/python3.11/site-packages (from jsonschema[format-nongpl]>=4.18.0->jupyter-events>=0.9.0->jupyter-server<3,>=2.4.0->notebook->jupyter) (2.4)\n",
      "Requirement already satisfied: uri-template in ./.conda/lib/python3.11/site-packages (from jsonschema[format-nongpl]>=4.18.0->jupyter-events>=0.9.0->jupyter-server<3,>=2.4.0->notebook->jupyter) (1.3.0)\n",
      "Requirement already satisfied: webcolors>=1.11 in ./.conda/lib/python3.11/site-packages (from jsonschema[format-nongpl]>=4.18.0->jupyter-events>=0.9.0->jupyter-server<3,>=2.4.0->notebook->jupyter) (1.13)\n",
      "Requirement already satisfied: cffi>=1.0.1 in ./.conda/lib/python3.11/site-packages (from argon2-cffi-bindings->argon2-cffi->jupyter-server<3,>=2.4.0->notebook->jupyter) (1.16.0)\n",
      "Requirement already satisfied: pycparser in ./.conda/lib/python3.11/site-packages (from cffi>=1.0.1->argon2-cffi-bindings->argon2-cffi->jupyter-server<3,>=2.4.0->notebook->jupyter) (2.21)\n",
      "Requirement already satisfied: arrow>=0.15.0 in ./.conda/lib/python3.11/site-packages (from isoduration->jsonschema[format-nongpl]>=4.18.0->jupyter-events>=0.9.0->jupyter-server<3,>=2.4.0->notebook->jupyter) (1.3.0)\n",
      "Requirement already satisfied: types-python-dateutil>=2.8.10 in ./.conda/lib/python3.11/site-packages (from arrow>=0.15.0->isoduration->jsonschema[format-nongpl]>=4.18.0->jupyter-events>=0.9.0->jupyter-server<3,>=2.4.0->notebook->jupyter) (2.9.0.20240316)\n",
      "\u001b[33mWARNING: Ignoring invalid distribution ~illow (/home/sagemaker-user/aws-rag-system-eval/.conda/lib/python3.11/site-packages)\u001b[0m\u001b[33m\n",
      "\u001b[0m"
     ]
    }
   ],
   "source": [
    "#!pip install --upgrade jupyter-console\n",
    "!pip install --upgrade jupyter"
   ]
  },
  {
   "cell_type": "code",
   "execution_count": 5,
   "id": "ba52a1c8-3b25-4bfa-bbff-5bbbd5de31c6",
   "metadata": {
    "tags": []
   },
   "outputs": [
    {
     "data": {
      "text/html": [
       "<script>Jupyter.notebook.kernel.restart()</script>"
      ]
     },
     "metadata": {},
     "output_type": "display_data"
    }
   ],
   "source": [
    "# restart kernel to ensure proper version of libraries is loaded\n",
    "from IPython.display import display_html\n",
    "def restartkernel() :\n",
    "    display_html(\"<script>Jupyter.notebook.kernel.restart()</script>\",raw=True)\n",
    "restartkernel()"
   ]
  },
  {
   "cell_type": "code",
   "execution_count": 6,
   "id": "6b6646c5-8ccf-4e0b-8ea8-0501c379d551",
   "metadata": {
    "tags": []
   },
   "outputs": [
    {
     "name": "stdout",
     "output_type": "stream",
     "text": [
      "\u001b[33mWARNING: Ignoring invalid distribution ~illow (/home/sagemaker-user/aws-rag-system-eval/.conda/lib/python3.11/site-packages)\u001b[0m\u001b[33m\n",
      "\u001b[0mawscli                                  1.32.87\n",
      "boto3                                   1.34.87\n",
      "botocore                                1.34.87\n",
      "langchain                               0.1.16\n",
      "langchain-community                     0.0.33\n",
      "langchain-core                          0.1.44\n",
      "langchain-text-splitters                0.0.1\n",
      "langchainhub                            0.1.15\n",
      "llama-index                             0.9.38\n",
      "llama-index-agent-openai                0.2.2\n",
      "llama-index-cli                         0.1.11\n",
      "llama-index-core                        0.10.28\n",
      "llama-index-embeddings-openai           0.1.7\n",
      "llama-index-indices-managed-llama-cloud 0.1.5\n",
      "llama-index-legacy                      0.9.48\n",
      "llama-index-llms-openai                 0.1.15\n",
      "llama-index-multi-modal-llms-openai     0.1.5\n",
      "llama-index-program-openai              0.1.5\n",
      "llama-index-question-gen-openai         0.1.3\n",
      "llama-index-readers-file                0.1.16\n",
      "llama-index-readers-llama-parse         0.1.4\n",
      "mlflow                                  2.10.0\n",
      "nest-asyncio                            1.6.0\n",
      "nltk                                    3.8.1\n",
      "opensearch-py                           2.4.2\n",
      "plotly                                  5.9.0\n",
      "pypdf                                   3.17.4\n",
      "python-dotenv                           1.0.0\n",
      "requests-aws4auth                       1.2.3\n",
      "sagemaker                               2.203.1\n",
      "tiktoken                                0.5.2\n",
      "xmltodict                               0.13.0\n"
     ]
    }
   ],
   "source": [
    "!pip list | grep -E \"awscli|boto3|botocore|langchain|mlflow|llama-index|plotly|tiktoken|nltk|python-dotenv|xmltodict|requests-aws4auth|pypdf|opensearch-py|sagemaker|nest-asyncio\"\n",
    "# also review requirements.txt for reference if needed"
   ]
  },
  {
   "cell_type": "code",
   "execution_count": 7,
   "id": "8e938c8c-5e0b-483c-9efd-84c7c9d4e3bf",
   "metadata": {
    "tags": []
   },
   "outputs": [
    {
     "name": "stdout",
     "output_type": "stream",
     "text": [
      "sagemaker.config INFO - Not applying SDK defaults from location: /etc/xdg/sagemaker/config.yaml\n",
      "sagemaker.config INFO - Not applying SDK defaults from location: /home/sagemaker-user/.config/sagemaker/config.yaml\n"
     ]
    }
   ],
   "source": [
    "# load environment variables \n",
    "import boto3\n",
    "import os\n",
    "import botocore\n",
    "from botocore.config import Config\n",
    "import langchain\n",
    "import sagemaker\n",
    "import pandas as pd\n",
    "\n",
    "from langchain.llms.bedrock import Bedrock\n",
    "from langchain.llms import SagemakerEndpoint\n",
    "from langchain.llms.sagemaker_endpoint import LLMContentHandler\n",
    "from typing import Dict\n",
    "\n",
    "import json\n",
    "import requests\n",
    "import csv\n",
    "import time\n",
    "import pandas as pd\n",
    "import nltk\n",
    "import sys\n",
    "\n",
    "from langchain.llms import Bedrock\n",
    "from dotenv import load_dotenv, find_dotenv\n",
    "import mlflow\n",
    "from mlflow import MlflowClient\n",
    "\n",
    "\n",
    "# loading environment variables that are stored in local file dev.env\n",
    "load_dotenv(find_dotenv('dev-mlflow.env'),override=True)\n",
    "\n",
    "os.environ['OPENSEARCH_COLLECTION'] = os.getenv('OPENSEARCH_COLLECTION')\n",
    "os.environ['BEDROCK_KNOWLEDGEBASE_ID'] = os.getenv('BEDROCK_KNOWLEDGEBASE_ID')\n",
    "os.environ['REGION'] = os.getenv('REGION')\n",
    "os.environ['MLFLOW_TRACKING_ENABLED'] = os.getenv('MLFLOW_TRACKING_ENABLED')\n",
    "os.environ['MLFLOW_TRACKING_URI'] = os.getenv('MLFLOW_TRACKING_URI')\n",
    "\n",
    "if os.environ['MLFLOW_TRACKING_ENABLED'] == 'True':\n",
    "   # Initialize mlflow client\n",
    "   mlflow_client = MlflowClient(tracking_uri=os.environ['MLFLOW_TRACKING_URI'])\n",
    "\n",
    "\n",
    "# Initialize Bedrock runtime\n",
    "config = Config(\n",
    "   retries = {\n",
    "      'max_attempts': 8\n",
    "   }\n",
    ")\n",
    "bedrock_runtime = boto3.client(\n",
    "        service_name=\"bedrock-runtime\",\n",
    "        config=config\n",
    ")\n",
    "\n",
    "# Initialize sagemaker session\n",
    "session = sagemaker.Session()\n",
    "bucket = session.default_bucket()"
   ]
  },
  {
   "cell_type": "code",
   "execution_count": 8,
   "id": "fd9a12c3",
   "metadata": {},
   "outputs": [
    {
     "name": "stdout",
     "output_type": "stream",
     "text": [
      "<Experiment: artifact_location='s3://mlflow-artifacts-026459568683/41', creation_time=1713565097701, experiment_id='41', last_update_time=1713565097701, lifecycle_stage='active', name='RAG_system_accuracy_202', tags={'mlflow.note.content': 'RAG system evaluation project.',\n",
      " 'project_name': 'rag-eval',\n",
      " 'source': 'Amazon 10k',\n",
      " 'team': 'aws-ai-ml-analytics',\n",
      " 'use_case': 'information extraction'}>\n"
     ]
    }
   ],
   "source": [
    "# Create a new mlflow experiment\n",
    "import random\n",
    "\n",
    "if os.environ['MLFLOW_TRACKING_ENABLED'] == 'True':\n",
    "    experiment_description = (\n",
    "        \"RAG system evaluation project.\"\n",
    "    )\n",
    "\n",
    "    experiment_tags = {\n",
    "        \"project_name\": \"rag-eval\",\n",
    "        \"use_case\": \"information extraction\",\n",
    "        \"team\": \"aws-ai-ml-analytics\",\n",
    "        \"source\": \"Amazon 10k\",\n",
    "        \"mlflow.note.content\": experiment_description,\n",
    "    }\n",
    "\n",
    "    random_identifier = random.randrange(100, 1000, 3)\n",
    "    experiment_name = f\"RAG_system_accuracy_{random_identifier}\"\n",
    "    llm_experiment = mlflow_client.create_experiment(name=experiment_name, tags=experiment_tags)\n",
    "\n",
    "    # Use search_experiments() to search on the project_name tag key\n",
    "    rag_experiment = mlflow_client.search_experiments(\n",
    "        filter_string=\"tags.`project_name` = 'rag-eval'\"\n",
    "    )\n",
    "\n",
    "    print(rag_experiment[0])"
   ]
  },
  {
   "cell_type": "code",
   "execution_count": 9,
   "id": "c9f1edb6-2102-48a2-bede-ffabd3caa462",
   "metadata": {
    "tags": []
   },
   "outputs": [],
   "source": [
    "# 1. Initialize LLMs (Claude-V2, Cohere, LLama2)\n",
    "\n",
    "## 1a. Initialize Claude-v2\n",
    "llm01_inference_modifier = {\n",
    "    \"max_tokens_to_sample\": 545,\n",
    "    \"temperature\": 0,\n",
    "    \"stop_sequences\": [\"\\n\\nHuman\"],\n",
    "}\n",
    "LLM_01_NAME= \"anthropic.claude-v2\"\n",
    "llm01 = langchain.llms.bedrock.Bedrock( #create a Bedrock llm client\n",
    "    model_id=LLM_01_NAME,\n",
    "    model_kwargs=llm01_inference_modifier\n",
    ")\n",
    "\n",
    "## 1b. Initialize Cohere Command\n",
    "llm02_inference_modifier = { \n",
    "    \"max_tokens\": 545,\n",
    "    \"temperature\": 0,    \n",
    "}\n",
    "LLM_02_NAME= \"cohere.command-text-v14\"\n",
    "llm02 = langchain.llms.bedrock.Bedrock( #create a Bedrock llm client\n",
    "    model_id=LLM_02_NAME,\n",
    "    model_kwargs=llm02_inference_modifier\n",
    ")\n",
    "\n",
    "## 1c. Initialize Llama\n",
    "llm03_inference_modifier = { \n",
    "    \"max_gen_len\": 545,\n",
    "    \"top_p\": 0.9, \n",
    "    \"temperature\": 0,    \n",
    "}\n",
    "LLM_03_NAME= \"meta.llama2-13b-chat-v1\"\n",
    "llm03 = langchain.llms.bedrock.Bedrock( #create a Bedrock llm client\n",
    "    model_id=LLM_03_NAME,\n",
    "    model_kwargs=llm03_inference_modifier\n",
    ")\n",
    "\n",
    "llms = [\n",
    "    llm01,\n",
    "    llm02,\n",
    "    llm03\n",
    "]\n",
    "\n",
    "## 1d. Initialize eval llm\n",
    "# inference_modifier = { \n",
    "#     \"max_gen_len\": 545,\n",
    "#     \"top_p\": 0.9, \n",
    "#     \"temperature\": 0,    \n",
    "# }\n",
    "# LLM_EVAL_NAME= \"meta.llama2-70b-chat-v1\"\n",
    "# langchain_eval_llm = langchain.llms.bedrock.Bedrock( #create a Bedrock llm client\n",
    "#     model_id=LLM_EVAL_NAME,\n",
    "#     model_kwargs=inference_modifier\n",
    "# )\n",
    "\n",
    "# inference_modifier = {\n",
    "#     \"max_tokens_to_sample\": 545,\n",
    "#     \"temperature\": 0,\n",
    "#     \"stop_sequences\": [\"\\n\\nHuman\"],\n",
    "# }\n",
    "# LLM_EVAL_NAME= \"anthropic.claude-v2\"\n",
    "# langchain_eval_llm = langchain.llms.bedrock.Bedrock(\n",
    "#     model_id=LLM_EVAL_NAME,\n",
    "#     model_kwargs=inference_modifier\n",
    "# )\n",
    "\n",
    "# from langchain.embeddings import BedrockEmbeddings\n",
    "# langchain_eval_embedding = BedrockEmbeddings(\n",
    "#     client=bedrock_runtime,\n",
    "#     model_id=\"amazon.titan-embed-text-v1\"\n",
    "# )"
   ]
  },
  {
   "cell_type": "code",
   "execution_count": 10,
   "id": "60611855-58f1-4568-b250-88ed113262e2",
   "metadata": {
    "tags": []
   },
   "outputs": [
    {
     "name": "stdout",
     "output_type": "stream",
     "text": [
      "{'prompt': \"Who is Amazon's Senior Vice President and General Counsel?\", 'context': 'Available Information\\nOur investor relations website is amazon.com/ir and we encourage investors to use it as a way of easily finding information about us. We promptly make available on this website, free of charge, the reports that we file or furnish with the Securities and Exchange Commission (â\\x80\\x9cSECâ\\x80\\x9d), corporate governance information (including our Code of Business Conduct and Ethics), and select press releases.\\nExecutive Officers and Directors\\nThe following tables set forth certain information regarding our Executive Officers and Directors as of January 25, 2023:\\nInformation About Our Executive Officers\\nName Age Position\\nJeffrey P. Bezos. Mr. Bezos founded Amazon.com in 1994 and has served as Executive Chair since July 2021. He has served as Chair of the Board since 1994 and served as Chief Executive Officer from May 1996 until July 2021, and as President from 1994 until June 1999 and again from October 2000 to July 2021.\\nAndrew R. Jassy. Mr. Jassy has served as President and Chief Executive Officer since July 2021, CEO Amazon Web Services from April 2016 until July 2021, and Senior Vice President, Amazon Web Services, from April 2006 until April 2016.\\nDouglas J. Herrington. Mr. Herrington has served as CEO Worldwide Amazon Stores since July 2022, Senior Vice President, North America Consumer from January 2015 to July 2022, and Senior Vice President, Consumables from May 2014 to December 2014.\\nBrian T. Olsavsky. Mr. Olsavsky has served as Senior Vice President and Chief Financial Officer since June 2015, Vice President, Finance for the Global Consumer Business from December 2011 to June 2015, and numerous financial leadership roles across Amazon with global responsibility since April 2002.\\nShelley L. Reynolds. Ms. Reynolds has served as Vice President, Worldwide Controller, and Principal Accounting Officer since April 2007.\\nAdam N. Selipsky. Mr. Selipsky has served as CEO Amazon Web Services since July 2021, Senior Vice President, Amazon Web Services from May 2021 until July 2021, President and CEO of Tableau Software from September 2016 until May 2021, and Vice President, Marketing, Sales and Support of Amazon Web Services from May 2005 to September 2016.\\nDavid A. Zapolsky. Mr. Zapolsky has served as Senior Vice President, General Counsel, and Secretary since May 2014, Vice President, General Counsel, and Secretary from September 2012 to May 2014, and as Vice President and Associate General Counsel for Litigation and Regulatory matters from April 2002 until September 2012.\\n5\\nJeffrey P. Bezos\\nAndrew R. Jassy\\nDouglas J. Herrington\\nBrian T. Olsavsky\\nShelley L. Reynolds\\nAdam N. Selipsky\\nDavid A. Zapolsky\\n59\\n55\\n56\\n59\\n58\\n56\\n59\\nExecutive Chair\\nPresident and Chief Executive Officer\\nCEO Worldwide Amazon Stores\\nSenior Vice President and Chief Financial Officer\\nVice President, Worldwide Controller, and Principal Accounting Officer\\nCEO Amazon Web Services\\nSenior Vice President, General Counsel, and Secretary', 'output': 'David A. Zapolsky is the Senior Vice President, General Counsel and Secretary', 'page': '5'}\n"
     ]
    }
   ],
   "source": [
    "## 2. Download ground truth dataset\n",
    "\n",
    "import xmltodict\n",
    "url = 'https://d3q8adh3y5sxpk.cloudfront.net/rageval/qsdata_20.xml'\n",
    "\n",
    "# Send an HTTP GET request to download the file\n",
    "response = requests.get(url)\n",
    "\n",
    "# Check if the request was successful (HTTP status code 200)\n",
    "if response.status_code == 200:        \n",
    "    xml_data = xmltodict.parse(response.text)\n",
    "\n",
    "# Convert the dictionary to a Pandas DataFrame\n",
    "qa_dataset = pd.DataFrame(xml_data['data']['records'])\n",
    "\n",
    "prompts = []\n",
    "for row in qa_dataset.itertuples():\n",
    "    item = {\n",
    "        'prompt': str(row[1]['Question']),\n",
    "        'context': str(row[1]['Context']),\n",
    "        'output': str(row[1]['Answer']['question_answer']),\n",
    "        'page': str(row[1]['Page'])\n",
    "    }\n",
    "    prompts.append(item)\n",
    "\n",
    "# example prompt\n",
    "print(prompts[0])"
   ]
  },
  {
   "cell_type": "code",
   "execution_count": 11,
   "id": "ae7ee402",
   "metadata": {},
   "outputs": [
    {
     "name": "stdout",
     "output_type": "stream",
     "text": [
      "TokenTextSplitter split documents in to 2143 chunks.\n",
      "\n",
      "CharacterTextSplitter split documents in to 682 chunks.\n",
      "\n"
     ]
    }
   ],
   "source": [
    "# 3. Download context / Amazon annual report and create token_text_splitter and char_text_splitter for evaluation\n",
    "\n",
    "import numpy as np\n",
    "import pypdf\n",
    "from langchain.text_splitter import CharacterTextSplitter, TokenTextSplitter, RecursiveCharacterTextSplitter\n",
    "from langchain.document_loaders import PyPDFLoader, PyPDFDirectoryLoader\n",
    "from urllib.request import urlretrieve\n",
    "\n",
    "os.makedirs(\"data\", exist_ok=True)\n",
    "files = [ \"https://d3q8adh3y5sxpk.cloudfront.net/rageval/AMZN-2023-10k.pdf\"]\n",
    "for url in files:\n",
    "    file_path = os.path.join(\"data\", url.rpartition(\"/\")[2])\n",
    "    urlretrieve(url, file_path)\n",
    "    \n",
    "\n",
    "loader = PyPDFDirectoryLoader(\"./data/\")\n",
    "documents = loader.load()\n",
    "\n",
    "\n",
    "# using a smaller chunk size to acccount for different embedding model limits - 1 token ~ 4 char\n",
    "token_text_splitter = TokenTextSplitter(chunk_size=125, chunk_overlap=100) \n",
    "\n",
    "char_text_splitter = RecursiveCharacterTextSplitter(chunk_size=500, chunk_overlap=100)\n",
    "\n",
    "token_text_list = token_text_splitter.split_documents(documents)\n",
    "char_text_list = char_text_splitter.split_documents(documents)\n",
    "    \n",
    "print(\"TokenTextSplitter split documents in to \" + str(len(token_text_list)) + \" chunks.\\n\")\n",
    "print(\"CharacterTextSplitter split documents in to \" + str(len(char_text_list)) + \" chunks.\\n\")"
   ]
  },
  {
   "cell_type": "code",
   "execution_count": 12,
   "id": "196146f0",
   "metadata": {},
   "outputs": [
    {
     "name": "stdout",
     "output_type": "stream",
     "text": [
      "region: us-east-1\n"
     ]
    }
   ],
   "source": [
    "# 4. Create or get vector database (OpenSearch Serverless)\n",
    "\n",
    "import time\n",
    "import os\n",
    "import dotenv\n",
    "from opensearchpy import OpenSearch, RequestsHttpConnection, AWSV4SignerAuth\n",
    "\n",
    "host = os.environ['OPENSEARCH_COLLECTION']  # serverless collection endpoint, without https://\n",
    "#print(f\"host: {host}\")\n",
    "region = os.environ['REGION']  # e.g. us-east-1\n",
    "print(f'region: {region}')\n",
    "\n",
    "service = 'aoss'\n",
    "credentials = boto3.Session().get_credentials()\n",
    "auth = AWSV4SignerAuth(credentials, region, service)\n",
    "\n",
    "## 4a. create vectordatabase if it does not exist yet\n",
    "if host == 'XXX':\n",
    "    print('creating collection')\n",
    "    vector_store_name = 'rag-eval'\n",
    "    encryption_policy_name = \"rag-eval-ep\"\n",
    "    network_policy_name = \"rag-eval-np\"\n",
    "    access_policy_name = 'rag-eval-ap'\n",
    "    identity = boto3.client('sts').get_caller_identity()['Arn']\n",
    "\n",
    "    aoss_client = boto3.client('opensearchserverless')\n",
    "\n",
    "    security_policy = aoss_client.create_security_policy(\n",
    "        name = encryption_policy_name,\n",
    "        policy = json.dumps(\n",
    "            {\n",
    "                'Rules': [{'Resource': ['collection/' + vector_store_name],\n",
    "                'ResourceType': 'collection'}],\n",
    "                'AWSOwnedKey': True\n",
    "            }),\n",
    "        type = 'encryption'\n",
    "    )\n",
    "\n",
    "    network_policy = aoss_client.create_security_policy(\n",
    "        name = network_policy_name,\n",
    "        policy = json.dumps(\n",
    "            [\n",
    "                {'Rules': [{'Resource': ['collection/' + vector_store_name],\n",
    "                'ResourceType': 'collection'}],\n",
    "                'AllowFromPublic': True}\n",
    "            ]),\n",
    "        type = 'network'\n",
    "    )\n",
    "\n",
    "    collection = aoss_client.create_collection(name=vector_store_name,type='VECTORSEARCH')\n",
    "\n",
    "    while True:\n",
    "        status = aoss_client.list_collections(collectionFilters={'name':vector_store_name})['collectionSummaries'][0]['status']\n",
    "        if status in ('ACTIVE', 'FAILED'): \n",
    "            print(f'new collection {vector_store_name} created')\n",
    "            break\n",
    "        time.sleep(10)\n",
    "\n",
    "    access_policy = aoss_client.create_access_policy(\n",
    "        name = access_policy_name,\n",
    "        policy = json.dumps(\n",
    "            [\n",
    "                {\n",
    "                    'Rules': [\n",
    "                        {\n",
    "                            'Resource': ['collection/' + vector_store_name],\n",
    "                            'Permission': [\n",
    "                                'aoss:CreateCollectionItems',\n",
    "                                'aoss:DeleteCollectionItems',\n",
    "                                'aoss:UpdateCollectionItems',\n",
    "                                'aoss:DescribeCollectionItems'],\n",
    "                            'ResourceType': 'collection'\n",
    "                        },\n",
    "                        {\n",
    "                            'Resource': ['index/' + vector_store_name + '/*'],\n",
    "                            'Permission': [\n",
    "                                'aoss:CreateIndex',\n",
    "                                'aoss:DeleteIndex',\n",
    "                                'aoss:UpdateIndex',\n",
    "                                'aoss:DescribeIndex',\n",
    "                                'aoss:ReadDocument',\n",
    "                                'aoss:WriteDocument'],\n",
    "                            'ResourceType': 'index'\n",
    "                        }],\n",
    "                    'Principal': [identity],\n",
    "                    'Description': 'Easy data policy'}\n",
    "            ]),\n",
    "        type = 'data'\n",
    "    )\n",
    "    print(collection)\n",
    "    host = collection['createCollectionDetail']['id'] + '.' + os.environ.get(\"AWS_DEFAULT_REGION\", None) + '.aoss.amazonaws.com:443'\n",
    "    host = host.split(\":\")[0].replace(\"'\",\"\")\n",
    "    # Write changes to .env file.\n",
    "    os.environ['OPENSEARCH_COLLECTION'] = host\n",
    "    dotenv.set_key('dev-mlflow.env', \"OPENSEARCH_COLLECTION\", os.environ[\"OPENSEARCH_COLLECTION\"])\n",
    "\n",
    "aospy_client = OpenSearch(\n",
    "    hosts=[{'host': host, 'port': 443}],\n",
    "    http_auth=auth,\n",
    "    use_ssl=True,\n",
    "    verify_certs=True,\n",
    "    connection_class=RequestsHttpConnection,\n",
    "    pool_maxsize=20,\n",
    ")\n",
    "\n",
    "## 4b. create Bedrock KnowledgeBase if it does not exist yet\n",
    "\n",
    "if os.environ['BEDROCK_KNOWLEDGEBASE_ID'] == \"XXX\":\n",
    "    knowledge_base_id = \"\"\n",
    "    session = sagemaker.Session()\n",
    "\n",
    "    # please note this requires significant permissions, thus might have to be done outside of the notebook if your user role has insufficient access.\n",
    "    print('create knowledge base')\n",
    "\n",
    "    print(f'using the following S3 bucket as source: {bucket}')\n",
    "    prefix = \"bedrock-kb-eval\"\n",
    "\n",
    "    # upload source data to S3\n",
    "    s3 = boto3.client('s3')\n",
    "    s3.upload_file('./data/AMZN-2023-10k.pdf', bucket, 'rageval/AMZN-2023-10k.pdf')\n",
    "\n",
    "    #session.resource('s3').Bucket(bucket).Object(os.path.join(prefix, 'rageval/AMZN-2023-10k.pdf')).upload_file('rageval/AMZN-2023-10k.pdf')\n",
    "\n",
    "    knowledge_base_name = prefix\n",
    "    knowledge_base_description = prefix\n",
    "    \n",
    "    knowledge_base_bucket_arn = f\"arn:aws:s3:::{bucket}\"\n",
    "    # parse collection id\n",
    "    collection_id = os.environ['OPENSEARCH_COLLECTION'].split(\".\")[0]\n",
    "    account_id = boto3.Session().client('sts').get_caller_identity()['Account']\n",
    "\n",
    "    collection_arn = f'arn:aws:aoss:{region}:{account_id}:collection/{collection_id}'\n",
    "    embeddingModelArn = f\"arn:aws:bedrock:{region}::foundation-model/amazon.titan-embed-text-v1\"\n",
    "\n",
    "    # create IAM role\n",
    "    iam = boto3.client('iam')\n",
    "    policy_doc = {\n",
    "        \"Version\": \"2012-10-17\",\n",
    "        \"Statement\": [\n",
    "            {\n",
    "                \"Effect\": \"Allow\", \n",
    "                \"Action\": [\n",
    "                    \"s3:GetObject\",\n",
    "                    \"s3:PutObject\",\n",
    "                    \"s3:ListBucket\"\n",
    "                ],\n",
    "                \"Resource\": [\n",
    "                    \"arn:aws:s3:::{bucket}\",\n",
    "                    \"arn:aws:s3:::{bucket}/*\"  \n",
    "                ]\n",
    "            },\n",
    "            {\n",
    "                \"Sid\": \"BedrockAll\",\n",
    "                \"Effect\": \"Allow\",\n",
    "                \"Action\": [\n",
    "                    \"bedrock:*\"\n",
    "                ],\n",
    "                \"Resource\": \"*\"\n",
    "            },\n",
    "            {\n",
    "                \"Sid\": \"PassRoleToBedrock\",\n",
    "                \"Effect\": \"Allow\",\n",
    "                \"Action\": [\n",
    "                    \"iam:PassRole\"\n",
    "                ],\n",
    "                \"Resource\": \"arn:aws:iam::*:role/*AmazonBedrock*\",\n",
    "                \"Condition\": {\n",
    "                    \"StringEquals\": {\n",
    "                        \"iam:PassedToService\": [\n",
    "                            \"bedrock.amazonaws.com\"\n",
    "                        ]\n",
    "                    }\n",
    "                }\n",
    "            },\n",
    "            {\n",
    "            \"Effect\": \"Allow\",\n",
    "            \"Action\": [\n",
    "                \"aoss:APIAccessAll\",\n",
    "                \"aoss:*\"\n",
    "            ],\n",
    "            \"Resource\": f'arn:aws:aoss:{region}:{account_id}:collection/{collection_id}'\n",
    "            }\n",
    "        ]\n",
    "        }\n",
    "    import random\n",
    "    random_identifier = random.randint(100,999)\n",
    "    rolename = f'AmazonBedrockExecutionRoleForKnowledgeBase_rageval_{str(random_identifier)}'\n",
    "    role = iam.create_role(\n",
    "        RoleName=rolename,\n",
    "        AssumeRolePolicyDocument=json.dumps({\n",
    "            \"Version\": \"2012-10-17\",\n",
    "            \"Statement\": [\n",
    "                {\n",
    "                    \"Effect\": \"Allow\",\n",
    "                    \"Principal\": {\n",
    "                    \"Service\": [\n",
    "                        \"bedrock.amazonaws.com\",\n",
    "                        \"opensearchservice.amazonaws.com\"\n",
    "                    ]\n",
    "                    },  \n",
    "                    \"Action\": \"sts:AssumeRole\"\n",
    "                }\n",
    "            ]\n",
    "        })\n",
    "    )\n",
    "\n",
    "    result = iam.put_role_policy(\n",
    "        RoleName=rolename,\n",
    "        PolicyName='AmazonBedrockExecutionRolePolicy',\n",
    "        PolicyDocument=json.dumps(policy_doc)\n",
    "    )\n",
    "    role_details = iam.get_role(RoleName=rolename)\n",
    "\n",
    "    knowledge_base_resource_role_arn = role_details['Role']['Arn']\n",
    "\n",
    "    # create OpenSearch index\n",
    "    index_name = prefix\n",
    "    vector_field = \"kb_vector\"\n",
    "    text_field = \"kb_text\"\n",
    "    bedrock_metadata_field = \"bedrock\"\n",
    "    vector_size = 1536\n",
    "\n",
    "    index_found = False\n",
    "    try:\n",
    "        client.indices.get(index=index_name)\n",
    "        index_found = True\n",
    "    except:\n",
    "        print(\"Index does not exist, create the index\")\n",
    "\n",
    "    #create a new index\n",
    "    \n",
    "    index_body = {\n",
    "        \"settings\": {\n",
    "            \"index.knn\": True\n",
    "    },\n",
    "    'mappings': {\n",
    "        'properties': {\n",
    "        f\"{vector_field}\": { \"type\": \"knn_vector\", \"dimension\": vector_size, \"method\": {\"engine\": \"faiss\", \"space_type\": \"l2\", \"name\": \"hnsw\", \"parameters\": {}   } },\n",
    "        f\"{text_field}\": { \"type\": \"text\" },\n",
    "        f\"{bedrock_metadata_field}\": { \"type\": \"text\", \"index\": False }\n",
    "        }\n",
    "    }\n",
    "    }\n",
    "\n",
    "    try:\n",
    "        #print('trying to create new index')\n",
    "        aospy_client.indices.delete(index=index_name)\n",
    "        aospy_client.indices.create(index=index_name,body=index_body,ignore=400)\n",
    "    except:\n",
    "        #print(f'Index {index_name} not found. Creating index on OpenSearch.')\n",
    "        aospy_client.indices.create(index=index_name,body=index_body)\n",
    "\n",
    "    # wait 60 seconds for index creation to complete\n",
    "    time.sleep(60)\n",
    "\n",
    "    aospy_client.indices.get(index=index_name)\n",
    "\n",
    "    print(f'knowledge_base_name: {knowledge_base_name}')\n",
    "    print(f'knowledge_base_description: {knowledge_base_description}')\n",
    "    print(f'knowledge_base_resource_role_arn: {knowledge_base_resource_role_arn}')\n",
    "    print(f'embeddingModelArn: {embeddingModelArn}')\n",
    "    print(f'collection_arn: {collection_arn}')\n",
    "    print(f'index_name: {index_name}')\n",
    "    print(f'vector_field: {vector_field}')\n",
    "    print(f'text_field: {text_field}')\n",
    "    print(f'bedrock_metadata_field: {bedrock_metadata_field}')\n",
    "    # create knowledge base\n",
    "    knowledge_base_config = {\n",
    "        \"name\": knowledge_base_name,\n",
    "        \"description\": knowledge_base_description,\n",
    "        \"roleArn\":knowledge_base_resource_role_arn,\n",
    "        \"knowledgeBaseConfiguration\": {\n",
    "            \"type\": 'VECTOR',\n",
    "            \"vectorKnowledgeBaseConfiguration\": {\n",
    "                \"embeddingModelArn\": embeddingModelArn\n",
    "            }\n",
    "        },\n",
    "        \"storageConfiguration\": {\n",
    "            \"type\": 'OPENSEARCH_SERVERLESS',\n",
    "            \"opensearchServerlessConfiguration\": {\n",
    "                \"collectionArn\": collection_arn,\n",
    "                \"vectorIndexName\": index_name,\n",
    "                \"fieldMapping\": {\n",
    "                    \"vectorField\": vector_field,\n",
    "                    \"textField\": text_field,\n",
    "                    \"metadataField\": bedrock_metadata_field\n",
    "                }\n",
    "            }\n",
    "        }\n",
    "    }\n",
    "    bedrock_agent_client = boto3.client('bedrock-agent', region_name = region)\n",
    "    if knowledge_base_id == \"\":\n",
    "        response = bedrock_agent_client.create_knowledge_base(**knowledge_base_config)\n",
    "        knowledge_base_id = response['knowledgeBase']['knowledgeBaseId']                      \n",
    "\n",
    "    data_source_id = \"\"\n",
    "    max_token_chunk = 8192\n",
    "    overlap = 10\n",
    "\n",
    "    response = bedrock_agent_client.list_data_sources(\n",
    "        knowledgeBaseId=knowledge_base_id\n",
    "    )\n",
    "    for data_source in response['dataSourceSummaries']:\n",
    "        if data_source['knowledgeBaseId'] == knowledge_base_id:\n",
    "            data_source_id = data_source['dataSourceId']\n",
    "\n",
    "    # configure data_source\n",
    "    data_source_config = {\n",
    "        \"knowledgeBaseId\": knowledge_base_id,\n",
    "        \"name\": data_source_name,\n",
    "        \"description\": data_source_name,\n",
    "        \"dataSourceConfiguration\": {\n",
    "            \"type\": 'S3',\n",
    "            \"s3Configuration\": {\n",
    "                \"bucketArn\": knowledge_base_bucket_arn,\n",
    "                \"inclusionPrefixes\": [\n",
    "                    \"kb/\",\n",
    "                ]\n",
    "            }\n",
    "        },\n",
    "        \"vectorIngestionConfiguration\": {\n",
    "            \"chunkingConfiguration\": {\n",
    "                \"chunkingStrategy\": \"FIXED_SIZE\",\n",
    "                \"fixedSizeChunkingConfiguration\": {\n",
    "                    \"maxTokens\": max_token_chunk,\n",
    "                    \"overlapPercentage\": overlap\n",
    "                }\n",
    "            }\n",
    "        }\n",
    "    }\n",
    "\n",
    "    ds_response = bedrock_agent_client.create_data_source(**data_source_config)\n",
    "    data_source_id = ds_response['dataSource']['dataSourceId']\n",
    "    \n",
    "    response = bedrock_agent_client.list_data_sources( knowledgeBaseId=knowledge_base_id)\n",
    "    for data_source in response['dataSourceSummaries']:\n",
    "        if data_source['knowledgeBaseId'] == knowledge_base_id:\n",
    "            data_source_id = data_source['dataSourceId']\n",
    "\n",
    "    print(f\"data_source_id: {data_source_id}\")\n",
    "\n",
    "    ingestion_response = bedrock_agent_client.start_ingestion_job(knowledgeBaseId=knowledge_base_id,dataSourceId=data_source_id)\n",
    "    print(f\"ingestion response: {ingestion_response}\")\n",
    "    \n",
    "    ingestion_job = ingestion_response['ingestionJob']['ingestionJobId']\n",
    "    print(f\"ingestionJobId: {ingestion_job}\")\n",
    "    status = 'IN_PROGRESS'\n",
    "    response = {}\n",
    "    \n",
    "    while status == 'IN_PROGRESS':\n",
    "        response = bedrock_agent_client.get_ingestion_job(\n",
    "            knowledgeBaseId=knowledge_base_id,\n",
    "            dataSourceId=data_source_id,\n",
    "            ingestionJobId=ingestion_job\n",
    "        )\n",
    "        \n",
    "        status = response['ingestionJob']['status']\n",
    "        time.sleep(5)\n",
    "    \n",
    "    print(response['ingestionJob']['statistics'])\n",
    "\n",
    "    # Write changes to .env file.\n",
    "    os.environ['BEDROCK_KNOWLEDGEBASE_ID'] = knowledge_base_id\n",
    "    dotenv.set_key('dev-mlflow.env', \"BEDROCK_KNOWLEDGEBASE_ID\", os.environ[\"BEDROCK_KNOWLEDGEBASE_ID\"])"
   ]
  },
  {
   "cell_type": "code",
   "execution_count": 13,
   "id": "5292f998-cb7d-408f-8942-f5bba5700a31",
   "metadata": {
    "tags": []
   },
   "outputs": [],
   "source": [
    "# 5. Create and save prompt templates for evaluation\n",
    "\n",
    "from langchain.chains import RetrievalQA\n",
    "from langchain.prompts import PromptTemplate\n",
    "from langchain import hub\n",
    "\n",
    "\n",
    "### Claude prompt templates\n",
    "prompt_template_claude_1 = \"\"\"\n",
    "        Human: Given report provided, please read it and analyse the content.\n",
    "        Please answer the following question: {question} basing the answer only on the information from the report\n",
    "        and return it inside <question_answer></question_answer> XML tags.\n",
    "\n",
    "        If a particular bit of information is not present, return an empty string.\n",
    "        Each returned answer should be concise, remove extra information if possible.\n",
    "        The report will be given between <report></report> XML tags.\n",
    "\n",
    "        <report>\n",
    "        {context}\n",
    "        </report>\n",
    "\n",
    "        Return the answer inside <question_answer></question_answer> XML tags.\n",
    "        Assistant:\"\"\"\n",
    "\n",
    "PROMPT_CLAUDE_1 = PromptTemplate(\n",
    "    template=prompt_template_claude_1, input_variables=[\"question\", \"context\"]\n",
    ")\n",
    "\n",
    "prompt_template_claude_2 = \"\"\"\n",
    "        Human: \n",
    "        You are a helpful, respectful, and honest assistant, dedicated to providing valuable and accurate information.\n",
    "\n",
    "        Assistant:\n",
    "        Understood. I will provide information based on the context given, without relying on prior knowledge.\n",
    "\n",
    "        Human:\n",
    "        If you don't see answer in the context just reply \"not available\" in XML tags.\n",
    "\n",
    "        Assistant:\n",
    "        Noted. I will respond with \"not available\" if the information is not available in the context.\n",
    "\n",
    "        Human:\n",
    "        Now read this context and answer the question and return the answer inside <question_answer></question_answer> XML tags. \n",
    "        {context}\n",
    "\n",
    "        Assistant:\n",
    "        Based on the provided context above and information from the retriever source, I will provide the answer in  and return it inside <question_answer></question_answer> XML tags to the below question\n",
    "        {question}\n",
    "        \"\"\"\n",
    "\n",
    "PROMPT_CLAUDE_2 = PromptTemplate(\n",
    "    template=prompt_template_claude_2, input_variables=[\"question\", \"context\"]\n",
    ")\n",
    "\n",
    "### Llama2 prompt templates\n",
    "prompt_template_llama_1 = \"\"\"\n",
    "        [INST] Given report provided, please read it and analyse the content.\n",
    "        Please answer the following question: {question} basing the answer only on the information from the report\n",
    "        and return it inside <question_answer></question_answer> XML tags.\n",
    "\n",
    "        If a particular bit of information is not present, return an empty string.\n",
    "        Each returned answer should be concise, remove extra information if possible.\n",
    "        The report will be given between <report></report> XML tags.\n",
    "\n",
    "        <report>\n",
    "        {context}\n",
    "        </report>\n",
    "\n",
    "        Return the answer inside <question_answer></question_answer> XML tags. [/INST]\n",
    "        \"\"\"\n",
    "PROMPT_LLAMA_1 = PromptTemplate(\n",
    "    template=prompt_template_llama_1, input_variables=[\"question\", \"context\"]\n",
    ")\n",
    "\n",
    "prompt_template_llama_2 = \"\"\"\n",
    "        [INST]\n",
    "        You are a helpful, respectful, and honest assistant, dedicated to providing valuable and accurate information.\n",
    "        [/INST]\n",
    "\n",
    "        Understood. I will provide information based on the context given, without relying on prior knowledge.\n",
    "\n",
    "        [INST]\n",
    "        If you don't see answer in the context just reply \"not available\" in XML tags.\n",
    "        [/INST]\n",
    "\n",
    "        Noted. I will respond with \"not available\" if the information is not available in the context.\n",
    "\n",
    "        [INST]\n",
    "        Now read this context and answer the question and return the answer inside <question_answer></question_answer> XML tags. \n",
    "        {context}\n",
    "        [/INST]\n",
    "\n",
    "        Based on the provided context above and information from the retriever source, I will provide the answer in  and return it inside <question_answer></question_answer> XML tags to the below question\n",
    "        {question}\n",
    "        \"\"\"\n",
    "PROMPT_LLAMA_2 = PromptTemplate(\n",
    "    template=prompt_template_llama_2, input_variables=[\"question\", \"context\"]\n",
    ")\n",
    "\n",
    "\n",
    "### Cohere Command prompt templates\n",
    "prompt_template_command_1 = \"\"\"\n",
    "        Human: Given report provided, please read it and analyse the content.\n",
    "        Please answer the following question: {question} basing the answer only on the information from the report\n",
    "        and return it inside <question_answer></question_answer> XML tags.\n",
    "\n",
    "        If a particular bit of information is not present, return an empty string.\n",
    "        Each returned answer should be concise, remove extra information if possible.\n",
    "        The report will be given between <report></report> XML tags.\n",
    "\n",
    "        <report>\n",
    "        {context}\n",
    "        </report>\n",
    "\n",
    "        Return the answer inside <question_answer></question_answer> XML tags.\n",
    "        Assistant:\"\"\"\n",
    "\n",
    "PROMPT_COMMAND_1 = PromptTemplate(\n",
    "    template=prompt_template_command_1, input_variables=[\"question\", \"context\"]\n",
    ")\n",
    "\n",
    "prompt_template_command_2 = \"\"\"\n",
    "        Human: \n",
    "        You are a helpful, respectful, and honest assistant, dedicated to providing valuable and accurate information.\n",
    "\n",
    "        Assistant:\n",
    "        Understood. I will provide information based on the context given, without relying on prior knowledge.\n",
    "\n",
    "        Human:\n",
    "        If you don't see answer in the context just reply \"not available\" in XML tags.\n",
    "\n",
    "        Assistant:\n",
    "        Noted. I will respond with \"not available\" if the information is not available in the context.\n",
    "\n",
    "        Human:\n",
    "        Now read this context and answer the question and return the answer inside <question_answer></question_answer> XML tags. \n",
    "        {context}\n",
    "\n",
    "        Assistant:\n",
    "        Based on the provided context above and information from the retriever source, I will provide the answer in  and return it inside <question_answer></question_answer> XML tags to the below question\n",
    "        {question}\n",
    "        \"\"\"\n",
    "PROMPT_COMMAND_2 = PromptTemplate(\n",
    "    template=prompt_template_command_2, input_variables=[\"question\", \"context\"]\n",
    ")\n",
    "\n",
    "# generic prompt template for all LLMs\n",
    "generic_rag_template = hub.pull(\"rlm/rag-prompt\")\n",
    "\n",
    "prompttemplates = [\n",
    "    {'template_name': 'generic_rag_template', 'template': generic_rag_template},\n",
    "    {'template_name': 'prompt_template_claude_1', 'template': PROMPT_CLAUDE_1},\n",
    "    {'template_name': 'prompt_template_claude_2', 'template': PROMPT_CLAUDE_2},\n",
    "    {'template_name': 'prompt_template_command_1', 'template': PROMPT_COMMAND_1},\n",
    "    {'template_name': 'prompt_template_command_2', 'template': PROMPT_COMMAND_2},\n",
    "    {'template_name': 'prompt_template_llama_1', 'template': PROMPT_LLAMA_1},\n",
    "    {'template_name': 'prompt_template_llama_2', 'template': PROMPT_LLAMA_2},\n",
    "]"
   ]
  },
  {
   "cell_type": "markdown",
   "id": "30244609",
   "metadata": {},
   "source": [
    "## 6) Create 2 helper functions:\n",
    "### 6a. create_rag to create RAG systems for evaluation\n",
    "### 6b. run_ragas_eval to evaluate RAG system with RAGAS and LlamaIndex evaluators"
   ]
  },
  {
   "cell_type": "code",
   "execution_count": 14,
   "id": "88ca290f",
   "metadata": {},
   "outputs": [
    {
     "name": "stdout",
     "output_type": "stream",
     "text": [
      "<botocore.credentials.RefreshableCredentials object at 0x7f1721e93650>\n"
     ]
    }
   ],
   "source": [
    "# 6a. helper function to create RAG systems for evaluation\n",
    "\n",
    "import random\n",
    "from langchain.embeddings import BedrockEmbeddings\n",
    "from langchain.chains import RetrievalQA\n",
    "from langchain.prompts import PromptTemplate\n",
    "from langchain import hub\n",
    "from langchain_community.embeddings.fastembed import FastEmbedEmbeddings  \n",
    "from langchain.vectorstores import OpenSearchVectorSearch\n",
    "from langchain.retrievers.bedrock import AmazonKnowledgeBasesRetriever\n",
    "import time\n",
    "\n",
    "# # LangChain requires AWS4Auth\n",
    "from requests_aws4auth import AWS4Auth\n",
    "def get_aws4_auth():\n",
    "    region = os.environ.get(\"Region\", os.environ[\"REGION\"])\n",
    "    service = \"aoss\"\n",
    "    credentials = boto3.Session().get_credentials()\n",
    "    print(credentials)\n",
    "    return AWS4Auth(\n",
    "        credentials.access_key,\n",
    "        credentials.secret_key,\n",
    "        region,\n",
    "        service,\n",
    "        session_token=credentials.token,\n",
    "    )\n",
    "aws4_auth = get_aws4_auth()\n",
    "\n",
    "\n",
    "def create_rag(rag_system_details):\n",
    "    existing_vector_store = rag_system_details[\"vector_store\"]\n",
    "    kb_id = rag_system_details[\"kb_id\"]\n",
    "    llm = rag_system_details[\"llm\"]\n",
    "    aospy_client = rag_system_details[\"aospy_client\"]\n",
    "    embedding_model = rag_system_details[\"embedding_model\"]\n",
    "    embedding_model_name = rag_system_details[\"embedding_model_name\"]\n",
    "    splitter_name = rag_system_details[\"splitter_name\"]\n",
    "    text_chunks = rag_system_details[\"text_chunks\"]\n",
    "    index_name = rag_system_details[\"index_name\"]\n",
    "    index_dimension = rag_system_details[\"index_dimension\"]\n",
    "    prompt_template_name = rag_system_details[\"prompt_template_name\"]\n",
    "    prompt_template = rag_system_details[\"prompt_template\"]\n",
    "    chain_type= rag_system_details[\"chain_type\"]\n",
    "    search_type= rag_system_details[\"search_type\"]\n",
    "    retriever_k = rag_system_details[\"retriever_k\"]\n",
    "    score_threshold = rag_system_details[\"score_threshold\"]\n",
    "    fetch_k = rag_system_details[\"fetch_k\"]\n",
    "    lambda_mult = rag_system_details[\"lambda_mult\"]\n",
    "    if existing_vector_store == \"\":\n",
    "        # create index\n",
    "        knn_index = {\n",
    "            \"settings\": {\n",
    "                \"index.knn\": True\n",
    "            },\n",
    "            \"mappings\": {\n",
    "                \"properties\": {\n",
    "                    \"vector_field\": {\n",
    "                        \"type\": \"knn_vector\",\n",
    "                        \"method\": {\n",
    "                        \"engine\": \"faiss\",\n",
    "                        \"name\": \"hnsw\",\n",
    "                        \"space_type\": \"l2\"\n",
    "                        },\n",
    "                        \"dimension\": index_dimension,\n",
    "                        \"store\": True\n",
    "                    },\n",
    "                    \"text\": {\n",
    "                        \"type\": \"text\",\n",
    "                        \"store\": True\n",
    "                    },\n",
    "                }\n",
    "            }\n",
    "        }\n",
    "\n",
    "        try:\n",
    "            #print('trying to create new index')\n",
    "            aospy_client.indices.delete(index=index_name)\n",
    "            aospy_client.indices.create(index=index_name,body=knn_index,ignore=400)\n",
    "            aospy_client.indices.get(index=index_name)\n",
    "        except:\n",
    "            #print(f'Index {index_name} not found. Creating index on OpenSearch.')\n",
    "            aospy_client.indices.create(index=index_name,body=knn_index)\n",
    "            aospy_client.indices.get(index=index_name)\n",
    "\n",
    "        # generate embeddings\n",
    "        full_opensearch_endpoint = 'https://' + os.environ['OPENSEARCH_COLLECTION']\n",
    "        vector_store = OpenSearchVectorSearch.from_documents(\n",
    "                    index_name = index_name,\n",
    "                    documents = text_chunks,\n",
    "                    embedding = embedding_model,\n",
    "                    opensearch_url=full_opensearch_endpoint,\n",
    "                    http_auth=auth,\n",
    "                    use_ssl=True,\n",
    "                    verify_certs=True,\n",
    "                    connection_class=RequestsHttpConnection,\n",
    "                    timeout=60*3,\n",
    "                    bulk_size=2500,\n",
    "                    is_aoss=True\n",
    "                )\n",
    "\n",
    "        # add a wait timer, otherwise index is not ready in time for retrieval\n",
    "        time.sleep(60)\n",
    "    else:\n",
    "        print(f'use existing vector store: {existing_vector_store}')\n",
    "        vector_store = existing_vector_store\n",
    "\n",
    "    random_identifier = random.randrange(100, 1000, 3)\n",
    "\n",
    "    if kb_id == \"\":\n",
    "        run_name=f'LLM_{llm.model_id}_embeddings{embedding_model_name}_split_{splitter_name}_template_{prompt_template_name}_search_{search_type}_chain_{chain_type}_k_{retriever_k}_{random_identifier}'\n",
    "        search_kwargs = {\n",
    "            \"retriever_k\": retriever_k\n",
    "        }\n",
    "        retriever = vector_store.as_retriever(search_type = search_type, search_kwargs=search_kwargs)\n",
    "    else:\n",
    "        # use Bedrock Knowledgebase retriever\n",
    "        run_name=f'LLM_{llm.model_id}_embeddings{embedding_model_name}_split_{splitter_name}_template_{prompt_template_name}_kb_id_{kb_id}_k_{retriever_k}_{random_identifier}'\n",
    "        retriever = AmazonKnowledgeBasesRetriever(\n",
    "                knowledge_base_id=kb_id,\n",
    "                retrieval_config={\"vectorSearchConfiguration\": {\"numberOfResults\": retriever_k}},\n",
    "\n",
    "            )\n",
    "\n",
    "    qa_chain = RetrievalQA.from_chain_type(\n",
    "            llm=llm,\n",
    "            chain_type=chain_type,\n",
    "            retriever=retriever,\n",
    "            return_source_documents=True,\n",
    "            chain_type_kwargs = {\"prompt\": prompt_template}\n",
    "    )\n",
    "    \n",
    "    return run_name, vector_store, qa_chain\n"
   ]
  },
  {
   "cell_type": "code",
   "execution_count": 15,
   "id": "73a13c6f",
   "metadata": {},
   "outputs": [],
   "source": [
    "# 6b. helper function to evaluate RAG system with RAGAS and LlamaIndexEval\n",
    "## For RAGAS and LLamaIndex Evaluators framework anthropic.claude-v2 and amazon.titan-embed-g1-text-02 from Bedrock is used\n",
    "\n",
    "import mlflow\n",
    "from mlflow.data.pandas_dataset import PandasDataset\n",
    "from datasets import Dataset\n",
    "import ragas\n",
    "#import tqdm as notebook_tqdm\n",
    "from ragas import evaluate\n",
    "from ragas.metrics import (\n",
    "    context_precision,\n",
    "    faithfulness,\n",
    "    context_recall,\n",
    "    answer_relevancy,\n",
    "    answer_correctness,\n",
    "    answer_similarity\n",
    ")\n",
    "\n",
    "# llama_index evaluators\n",
    "## Faithfulness: measure if the response from a query engine matches any source nodes\n",
    "## Relevancy: measure if the response and source nodes match the query\n",
    "## Correctness: assess the relevance and correctness of a generated answer against a reference answer\n",
    "## Semantic Similarity: evaluates the quality of a question answering system via semantic similarity\n",
    "\n",
    "from llama_index.llms import Bedrock\n",
    "from llama_index.embeddings import BedrockEmbedding\n",
    "from llama_index import (\n",
    "    ServiceContext\n",
    ")\n",
    "\n",
    "from llama_index.evaluation import (\n",
    "    FaithfulnessEvaluator,\n",
    "    RelevancyEvaluator,\n",
    "    CorrectnessEvaluator,\n",
    "    SemanticSimilarityEvaluator\n",
    ")\n",
    "from llama_index.embeddings import SimilarityMode\n",
    "from llama_index import Document\n",
    "\n",
    "import nest_asyncio\n",
    "\n",
    "nest_asyncio.apply()\n",
    "\n",
    "model_kwargs_claude = {\n",
    "    \"temperature\": 0,\n",
    "    \"top_k\": 10,\n",
    "    \"max_tokens_to_sample\": 512\n",
    "}\n",
    "\n",
    "\n",
    "llamaindex_eval_llm = Bedrock(model=\"anthropic.claude-v2\",\n",
    "              #context_size=512,\n",
    "              temperature=0,\n",
    "              additional_kwargs={'max_tokens_to_sample': 512,'top_k': 10})\n",
    "\n",
    "llamaindex_embed_model = BedrockEmbedding().from_credentials(\n",
    "    model_name='amazon.titan-embed-g1-text-02'\n",
    ")\n",
    "\n",
    "service_context_eval = ServiceContext.from_defaults(\n",
    "    llm=llamaindex_eval_llm, \n",
    "    embed_model=llamaindex_embed_model, \n",
    ")\n",
    "\n",
    "faithfulness_evaluator = FaithfulnessEvaluator(service_context=service_context_eval)\n",
    "relevancy_evaluator = RelevancyEvaluator(service_context=service_context_eval)\n",
    "similarity_threshold = 0.8\n",
    "semantic_evaluator = SemanticSimilarityEvaluator(service_context=service_context_eval,\n",
    "                                                 similarity_mode=SimilarityMode.DEFAULT,\n",
    "                                                 similarity_threshold=similarity_threshold) # 0.8 default\n",
    "correctness_evaluator = CorrectnessEvaluator(service_context=service_context_eval)\n",
    "\n",
    "\n",
    "def run_ragas_eval(rag_system_eval_details, rag_system_details):\n",
    "    mlflow_metrics_results = {}\n",
    "    experiment_name = rag_system_eval_details[\"experiment_name\"]\n",
    "    run_name = rag_system_eval_details[\"run_name\"]\n",
    "    qa_chain = rag_system_eval_details[\"qa_chain\"]\n",
    "    ground_truth = rag_system_eval_details[\"ground_truth\"]\n",
    "\n",
    "       \n",
    "        \n",
    "    metrics = [\n",
    "        context_precision,\n",
    "        faithfulness,\n",
    "        context_recall,\n",
    "        answer_relevancy,\n",
    "        answer_similarity,\n",
    "        answer_correctness\n",
    "        \n",
    "    ]\n",
    "\n",
    "    basic_qa_ragas_dataset = []\n",
    "    basic_qa_llamaindex_dataset = []\n",
    "    basic_error_log = []\n",
    "    for item in ground_truth:\n",
    "        correctness_results_score = 0\n",
    "        semantic_results_score = 0\n",
    "        faithfulness_results_score = 0\n",
    "        relevancy_results_score = 0\n",
    "        generated_answer_error = \"\"\n",
    "        retrieved_context_error = \"\"\n",
    "        reference_answer_error = \"\"\n",
    "        \n",
    "        result = qa_chain.invoke(item['prompt'])\n",
    "        #print(f'result: {result}')\n",
    "\n",
    "        # evaluate with LlamaIndexEvaluators\n",
    "        question = item['prompt']\n",
    "        reference_answer = item['output']\n",
    "        generated_answer = result[\"result\"]\n",
    "        #print(f'retrieved source_documents: {result[\"source_documents\"]}')\n",
    "        context_sequence = []\n",
    "        for doc in result[\"source_documents\"]:\n",
    "            context_sequence.append(doc.page_content)\n",
    "        retrieved_context = context_sequence\n",
    "\n",
    "\n",
    "        #print(f'question: {question}')\n",
    "        #print(f'reference_answer: {reference_answer}')\n",
    "        #print(f'generated_answer: {generated_answer}')\n",
    "        #print(f'retrieved_context: {retrieved_context}')\n",
    "\n",
    "\n",
    "        if generated_answer is None or generated_answer.strip() == \"\" or generated_answer.replace(\" \", \"\") == \"<question_answer></question_answer>\":\n",
    "            generated_answer_error = f'no answer generated for question {question}'\n",
    "            \n",
    "        if retrieved_context is None or retrieved_context == \"\" or retrieved_context == \"[]\" or len(context_sequence) == 0 :\n",
    "            retrieved_context_error = f'no retrieved_context for question {question}'\n",
    "        \n",
    "        if reference_answer is None or reference_answer == \"\":\n",
    "            reference_answer_error = f'no reference_answer for question {question}'\n",
    "                \n",
    "        \n",
    "        if generated_answer_error != \"\" or retrieved_context_error != \"\" or reference_answer_error != \"\":\n",
    "            basic_error_log.append(\n",
    "                {\"question\" : question,\n",
    "                \"generated_answer_error\" : generated_answer_error,\n",
    "                \"retrieved_context_error\" : retrieved_context_error,\n",
    "                \"reference_answer_error\" : reference_answer_error,\n",
    "                \"value_error\": \"\"\n",
    "                }\n",
    "            )\n",
    "        else:\n",
    "            try:\n",
    "                faithfulness_results = faithfulness_evaluator.evaluate(\n",
    "                    query=question,\n",
    "                    response=generated_answer,\n",
    "                    contexts=retrieved_context\n",
    "                    )\n",
    "                \n",
    "                relevancy_results = relevancy_evaluator.evaluate(\n",
    "                    query=question,\n",
    "                    response=generated_answer,\n",
    "                    contexts=retrieved_context\n",
    "                    )\n",
    "                \n",
    "                semantic_results = semantic_evaluator.evaluate(\n",
    "                    response=generated_answer,\n",
    "                    reference=reference_answer\n",
    "                )\n",
    "\n",
    "                correctness_results = correctness_evaluator.evaluate(\n",
    "                    query=question,\n",
    "                    response=generated_answer,\n",
    "                    reference=reference_answer\n",
    "                )\n",
    "                correctness_results_score = correctness_results.score\n",
    "                semantic_results_score = semantic_results.score\n",
    "                faithfulness_results_score = faithfulness_results.score\n",
    "                relevancy_results_score = relevancy_results.score\n",
    "            except ValueError as ve:\n",
    "                print(f'Question {question} raised ValueError: {ve}')\n",
    "                basic_error_log.append(\n",
    "                    {\"question\" : question,\n",
    "                    \"generated_answer_error\" : generated_answer_error,\n",
    "                    \"retrieved_context_error\" : retrieved_context_error,\n",
    "                    \"reference_answer_error\" : reference_answer_error,\n",
    "                    \"value_error\": str(ve),\n",
    "                    }\n",
    "                )\n",
    "\n",
    "            basic_qa_llamaindex_dataset.append(\n",
    "                { \n",
    "                    \"correctness_score\" : correctness_results_score,\n",
    "                    \"similarity_score\" : semantic_results_score,\n",
    "                    \"faithfulness_score\" : faithfulness_results_score,\n",
    "                    \"relevancy_score\" : relevancy_results_score\n",
    "                }\n",
    "\n",
    "            )\n",
    "\n",
    "            basic_qa_ragas_dataset.append(\n",
    "                {\"question\" : item['prompt'],\n",
    "                \"answer\" : result[\"result\"],\n",
    "                \"contexts\" : context_sequence,\n",
    "                \"ground_truths\" : [item['output']]\n",
    "                }\n",
    "            )\n",
    "\n",
    "    \n",
    "    #capture any errors in CSV for further review\n",
    "    if len(basic_error_log) != 0:\n",
    "        basic_error_log_df = pd.DataFrame(basic_error_log)\n",
    "        basic_error_log_df.to_csv('./mlflow_run_errorlog.csv',index=False)\n",
    "    \n",
    "    if len(basic_qa_llamaindex_dataset) != 0:\n",
    "        basic_qa_ragas_df = pd.DataFrame(basic_qa_ragas_dataset)\n",
    "        basic_qa_ragas_df.to_csv('./mlflow_run_predictions.csv',index=False)\n",
    "\n",
    "        # evaluate with RAGAS\n",
    "        basic_qa_ragas = Dataset.from_pandas(basic_qa_ragas_df)\n",
    "        \n",
    "        ragas_result = evaluate(basic_qa_ragas, metrics=metrics) #evaluate(basic_qa_ragas, metrics=metrics, llm=langchain_eval_llm, embeddings=langchain_eval_embedding) #old: evaluate(basic_qa_ragas, metrics=metrics)\n",
    "        \n",
    "        ragas_evals_df = ragas_result.to_pandas()\n",
    "\n",
    "        # convert LlamaEvaluation results to df\n",
    "        basic_qa_llamaindex_dataset_df = pd.DataFrame(basic_qa_llamaindex_dataset)\n",
    "\n",
    "        params = {\n",
    "            \"run_name\": run_name,\n",
    "            \"llm_name\": rag_system_details[\"llm\"].model_id,\n",
    "            \"kb_id\": rag_system_details[\"kb_id\"],\n",
    "            \"splitter_name\": rag_system_details[\"splitter_name\"],\n",
    "            \"index_name\": rag_system_details[\"index_name\"],\n",
    "            \"index_dimension\": rag_system_details[\"index_dimension\"],\n",
    "            \"embedding_model_name\": rag_system_details[\"embedding_model_name\"],\n",
    "            \"prompt_template_name\": rag_system_details[\"prompt_template_name\"],\n",
    "            \"chain_type\": rag_system_details[\"chain_type\"],\n",
    "            \"search_type\": rag_system_details[\"search_type\"],\n",
    "            \"retriever_k\": rag_system_details[\"retriever_k\"],\n",
    "            \"score_threshold\": rag_system_details[\"score_threshold\"],\n",
    "            \"fetch_k\": rag_system_details[\"fetch_k\"],\n",
    "            \"lambda_mult\": rag_system_details[\"lambda_mult\"]\n",
    "        }\n",
    "        \n",
    "        print(f'ragas_faithfulness mean: {ragas_evals_df[\"faithfulness\"].mean()}')\n",
    "        print(f'ragas_answer_relevancy mean: {ragas_evals_df[\"answer_relevancy\"].mean()}')\n",
    "        print(f'ragas_answer_similarity mean: {ragas_evals_df[\"answer_similarity\"].mean()}')\n",
    "        print(f'ragas_answer_correctness mean: {ragas_evals_df[\"answer_correctness\"].mean()}')\n",
    "        print(f'ragas_context_recall: {ragas_evals_df[\"context_recall\"].mean()}')\n",
    "        print(f'ragas_context_precision: {ragas_evals_df[\"context_precision\"].mean()}')\n",
    "\n",
    "        mlflow_metrics_results = {\n",
    "            \"ragas_faithfulness_mean\": ragas_evals_df[\"faithfulness\"].mean(),\n",
    "            \"ragas_answer_relevancy_mean\": ragas_evals_df[\"answer_relevancy\"].mean(),\n",
    "            \"ragas_answer_similarity_mean\": ragas_evals_df[\"answer_similarity\"].mean(),\n",
    "            \"ragas_answer_correctness_mean\": ragas_evals_df[\"answer_correctness\"].mean(),\n",
    "            \"ragas_context_recall_mean\": ragas_evals_df[\"context_recall\"].mean(),\n",
    "            \"ragas_context_precision_mean\": ragas_evals_df[\"context_precision\"].mean(),\n",
    "            \"llamaindex_correctness_score_mean\": basic_qa_llamaindex_dataset_df[\"correctness_score\"].mean(),\n",
    "            \"llamaindex_semantic_similarity_score_mean\": basic_qa_llamaindex_dataset_df[\"similarity_score\"].mean(),\n",
    "            \"llamaindex_faithfulness_score_mean\": basic_qa_llamaindex_dataset_df[\"faithfulness_score\"].mean(),\n",
    "            \"llamaindex_relevancy_score_mean\": basic_qa_llamaindex_dataset_df[\"relevancy_score\"].mean()\n",
    "        }\n",
    "\n",
    "        if os.environ['MLFLOW_TRACKING_ENABLED'] == 'True':\n",
    "            llm_experiment = mlflow.set_experiment(experiment_name)\n",
    "            # Initiate the MLflow run context\n",
    "            with mlflow.start_run(run_name=run_name) as run:\n",
    "                # Log input dataset to MLflow Tracking as a JSON artifact.\n",
    "                mlflow_dataset = mlflow.data.from_pandas(basic_qa_ragas_df, source='./mlflow_run_predictions.csv')\n",
    "                mlflow.log_input(mlflow_dataset, context=\"rag-output\")\n",
    "\n",
    "                # Log evaluation metrics that were calculated\n",
    "                mlflow.log_metrics(mlflow_metrics_results)\n",
    "                \n",
    "                # Log RAGAS results to MLflow Tracking as a JSON artifact.\n",
    "                mlflow.log_table(data=ragas_evals_df, artifact_file=\"qa_ragas_eval_results.json\")\n",
    "\n",
    "                # Log LlamaEvaluation results to MLflow Tracking as a JSON artifact.\n",
    "                mlflow.log_table(data=basic_qa_llamaindex_dataset_df, artifact_file=\"qa_llamaindex_eval_results.json\")\n",
    "\n",
    "                # Log parameters used for the RAG system\n",
    "                mlflow.log_params(params)\n",
    "\n",
    "    return mlflow_metrics_results"
   ]
  },
  {
   "cell_type": "code",
   "execution_count": 16,
   "id": "da7d2b31",
   "metadata": {},
   "outputs": [
    {
     "name": "stdout",
     "output_type": "stream",
     "text": [
      "{'query': \"Who is Amazon's Senior Vice President and General Counsel?\", 'result': ' <question_answer>\\nDavid A. Zapolsky\\n</question_answer>', 'source_documents': [Document(page_content='Executive Officers and Directors\\nThe following tables set forth certain information regarding our Executive Officers and Directors as of January 25, 2023:\\nInformation About Our Executive Officers\\nName Age Position\\nJeffrey P. Bezos 59 Executive Chair\\nAndrew R. Jassy 55 President and Chief Executive Officer\\nDouglas J. Herrington 56 CEO Worldwide Amazon Stores\\nBrian T. Olsavsky 59 Senior Vice President and Chief Financial Officer', metadata={'source': 'data/AMZN-2023-10k.pdf', 'page': 4}), Document(page_content='2021, and Senior Vice President, Amazon Web Services, from April 2006 until April 2016.\\nDouglas J. Herrington. Mr. Herrington has served as CEO Worldwide Amazon Stores since July 2022, Senior Vice President, North America Consumer\\nfrom January 2015 to July 2022, and Senior Vice President, Consumables from May 2014 to December 2014.\\nBrian T. Olsavsky. Mr. Olsavsky has served as Senior Vice President and Chief Financial Officer since June 2015, Vice President, Finance for the', metadata={'source': 'data/AMZN-2023-10k.pdf', 'page': 4}), Document(page_content='Brian T. Olsavsky 59 Senior Vice President and Chief Financial Officer\\nShelley L. Reynolds 58 Vice President, Worldwide Controller, and Principal Accounting Officer\\nAdam N. Selipsky 56 CEO Amazon Web Services\\nDavid A. Zapolsky 59 Senior Vice President, General Counsel, and Secretary\\nJeffrey P. Bezos. Mr. Bezos founded Amazon.com in 1994 and has served as Executive Chair since July 2021. He has served as Chair of the Board since', metadata={'source': 'data/AMZN-2023-10k.pdf', 'page': 4}), Document(page_content='Global Consumer Business from December 2011 to June 2015, and numerous financial leadership roles across Amazon with global responsibility since April\\n2002.\\nShelley L. Reynolds. Ms. Reynolds has served as Vice President, Worldwide Controller, and Principal Accounting Officer since April 2007.\\nAdam N. Selipsky. Mr. Selipsky has served as CEO Amazon Web Services since July 2021, Senior Vice President, Amazon Web Services from May', metadata={'source': 'data/AMZN-2023-10k.pdf', 'page': 4})]}\n"
     ]
    }
   ],
   "source": [
    "# 7. test a RAG system\n",
    "rag_system_details = {\n",
    "    \"aospy_client\": aospy_client,\n",
    "    \"vector_store\": \"\",\n",
    "    \"llm\": llm01,\n",
    "    \"kb_id\": \"\",\n",
    "    \"splitter_name\": \"RecursiveCharacterTextSplitter\",\n",
    "    \"text_chunks\": char_text_list,\n",
    "    \"index_name\": \"rag-eval-chartextsplitter\",\n",
    "    \"index_dimension\": 1536,\n",
    "    \"embedding_model_name\": 'bedrock_embeddings',\n",
    "    \"embedding_model\": BedrockEmbeddings(client=bedrock_runtime),\n",
    "    \"prompt_template_name\": \"PROMPT_CLAUDE_1\",\n",
    "    \"prompt_template\": PROMPT_CLAUDE_1,\n",
    "    \"chain_type\": \"stuff\",\n",
    "    \"search_type\": \"similarity\", # alternative: \"mmr\", or \"similarity_score_threshold\" (Default: similarity)\n",
    "    \"retriever_k\": 4, # Amount of documents to return (Default: 4)\n",
    "    \"score_threshold\": 0, # Minimum relevance threshold for similarity_score_threshold\n",
    "    \"fetch_k\": 20, # Amount of documents to pass to MMR algorithm (Default: 20)\n",
    "    \"lambda_mult\": 0.5, # Diversity of results returned by MMR, 1 for minimum diversity and 0 for maximum. (Default: 0.5)\n",
    "         \n",
    "}\n",
    "run_name, vector_store, qa_chain = create_rag(rag_system_details)\n",
    "query = \"Who is Amazon's Senior Vice President and General Counsel?\"\n",
    "result = qa_chain.invoke(query)\n",
    "print(result)"
   ]
  },
  {
   "cell_type": "markdown",
   "id": "4b3ad781",
   "metadata": {},
   "source": [
    "## 8) RAG system component evaluation"
   ]
  },
  {
   "cell_type": "markdown",
   "id": "f2bb384a",
   "metadata": {},
   "source": [
    "### 8.1) Evaluate impact of different text splitters\n",
    "\n",
    "In this first eval, we keep everything else constant, and only change the splitter method."
   ]
  },
  {
   "cell_type": "code",
   "execution_count": 17,
   "id": "e3cd04c9",
   "metadata": {},
   "outputs": [
    {
     "name": "stdout",
     "output_type": "stream",
     "text": [
      "evaluating with [context_precision]\n"
     ]
    },
    {
     "name": "stderr",
     "output_type": "stream",
     "text": [
      "100%|██████████| 2/2 [01:32<00:00, 46.16s/it]\n"
     ]
    },
    {
     "name": "stdout",
     "output_type": "stream",
     "text": [
      "evaluating with [faithfulness]\n"
     ]
    },
    {
     "name": "stderr",
     "output_type": "stream",
     "text": [
      "100%|██████████| 2/2 [04:50<00:00, 145.34s/it]\n"
     ]
    },
    {
     "name": "stdout",
     "output_type": "stream",
     "text": [
      "evaluating with [context_recall]\n"
     ]
    },
    {
     "name": "stderr",
     "output_type": "stream",
     "text": [
      "100%|██████████| 2/2 [02:13<00:00, 66.81s/it]\n"
     ]
    },
    {
     "name": "stdout",
     "output_type": "stream",
     "text": [
      "evaluating with [answer_relevancy]\n"
     ]
    },
    {
     "name": "stderr",
     "output_type": "stream",
     "text": [
      "100%|██████████| 2/2 [00:47<00:00, 23.54s/it]\n"
     ]
    },
    {
     "name": "stdout",
     "output_type": "stream",
     "text": [
      "evaluating with [answer_similarity]\n"
     ]
    },
    {
     "name": "stderr",
     "output_type": "stream",
     "text": [
      "100%|██████████| 2/2 [00:00<00:00,  2.09it/s]\n"
     ]
    },
    {
     "name": "stdout",
     "output_type": "stream",
     "text": [
      "evaluating with [answer_correctness]\n"
     ]
    },
    {
     "name": "stderr",
     "output_type": "stream",
     "text": [
      "100%|██████████| 2/2 [04:26<00:00, 133.42s/it]\n",
      "/home/sagemaker-user/aws-rag-system-eval/.conda/lib/python3.11/site-packages/mlflow/data/dataset_source_registry.py:150: UserWarning: The specified dataset source can be interpreted in multiple ways: LocalArtifactDatasetSource, LocalArtifactDatasetSource. MLflow will assume that this is a LocalArtifactDatasetSource source.\n",
      "  return _dataset_source_registry.resolve(\n",
      "/home/sagemaker-user/aws-rag-system-eval/.conda/lib/python3.11/site-packages/mlflow/data/digest_utils.py:29: FutureWarning: DataFrame.applymap has been deprecated. Use DataFrame.map instead.\n",
      "  string_columns = trimmed_df.columns[(df.applymap(type) == str).all(0)]\n"
     ]
    },
    {
     "name": "stdout",
     "output_type": "stream",
     "text": [
      "ragas_faithfulness mean: 0.9191697191697191\n",
      "ragas_answer_relevancy mean: 0.5931063165778259\n",
      "ragas_answer_similarity mean: 0.38095238095238093\n",
      "ragas_answer_correctness mean: 0.6214285714285714\n",
      "ragas_context_recall: 0.12447948876520307\n",
      "ragas_context_precision: 0.16953190569705437\n"
     ]
    }
   ],
   "source": [
    "# 1. Text Splitter: TokenTextSplitter vs CharacterTextSplitter Eval\n",
    "## 1a. create RAG system with TokenTextSplitter and then run RAG system evaluation and log it in mlfow\n",
    "\n",
    "rag_system_details = {\n",
    "    \"aospy_client\": aospy_client,\n",
    "    \"vector_store\": \"\",\n",
    "    \"llm\": llm01,\n",
    "    \"kb_id\": \"\",\n",
    "    \"splitter_name\": \"TokenTextSplitter\",\n",
    "    \"text_chunks\": token_text_list,\n",
    "    \"index_name\": \"rag-eval-tokentextsplitter\",\n",
    "    \"index_dimension\": 1536,\n",
    "    \"embedding_model_name\": 'bedrock_embeddings',\n",
    "    \"embedding_model\": BedrockEmbeddings(client=bedrock_runtime),\n",
    "    \"prompt_template_name\": \"PROMPT_CLAUDE_1\",\n",
    "    \"prompt_template\": PROMPT_CLAUDE_1,\n",
    "    \"chain_type\": \"stuff\",\n",
    "    \"search_type\": \"similarity\", # alternative: \"mmr\", or \"similarity_score_threshold\" (Default: similarity)\n",
    "    \"retriever_k\": 4, # Amount of documents to return (Default: 4)\n",
    "    \"score_threshold\": 0, # Minimum relevance threshold for similarity_score_threshold\n",
    "    \"fetch_k\": 20, # Amount of documents to pass to MMR algorithm (Default: 20)\n",
    "    \"lambda_mult\": 0.5, # Diversity of results returned by MMR, 1 for minimum diversity and 0 for maximum. (Default: 0.5)\n",
    "         \n",
    "}\n",
    "run_name, vector_store, qa_chain = create_rag(rag_system_details)\n",
    "\n",
    "rag_system_eval_details = {\n",
    "    \"experiment_name\": experiment_name,\n",
    "    \"run_name\": run_name,\n",
    "    \"qa_chain\": qa_chain,\n",
    "    \"ground_truth\": prompts\n",
    "}\n",
    "ragas_eval_result = run_ragas_eval(rag_system_eval_details, rag_system_details)\n"
   ]
  },
  {
   "cell_type": "code",
   "execution_count": 18,
   "id": "1f0aedd4",
   "metadata": {},
   "outputs": [
    {
     "name": "stdout",
     "output_type": "stream",
     "text": [
      "evaluating with [context_precision]\n"
     ]
    },
    {
     "name": "stderr",
     "output_type": "stream",
     "text": [
      "100%|██████████| 2/2 [01:17<00:00, 38.85s/it]\n"
     ]
    },
    {
     "name": "stdout",
     "output_type": "stream",
     "text": [
      "evaluating with [faithfulness]\n"
     ]
    },
    {
     "name": "stderr",
     "output_type": "stream",
     "text": [
      "100%|██████████| 2/2 [05:10<00:00, 155.05s/it]\n"
     ]
    },
    {
     "name": "stdout",
     "output_type": "stream",
     "text": [
      "evaluating with [context_recall]\n"
     ]
    },
    {
     "name": "stderr",
     "output_type": "stream",
     "text": [
      "100%|██████████| 2/2 [02:01<00:00, 60.81s/it]\n"
     ]
    },
    {
     "name": "stdout",
     "output_type": "stream",
     "text": [
      "evaluating with [answer_relevancy]\n"
     ]
    },
    {
     "name": "stderr",
     "output_type": "stream",
     "text": [
      "100%|██████████| 2/2 [00:30<00:00, 15.22s/it]\n"
     ]
    },
    {
     "name": "stdout",
     "output_type": "stream",
     "text": [
      "evaluating with [answer_similarity]\n"
     ]
    },
    {
     "name": "stderr",
     "output_type": "stream",
     "text": [
      "100%|██████████| 2/2 [00:00<00:00,  4.29it/s]\n"
     ]
    },
    {
     "name": "stdout",
     "output_type": "stream",
     "text": [
      "evaluating with [answer_correctness]\n"
     ]
    },
    {
     "name": "stderr",
     "output_type": "stream",
     "text": [
      "100%|██████████| 2/2 [04:49<00:00, 144.92s/it]\n",
      "/home/sagemaker-user/aws-rag-system-eval/.conda/lib/python3.11/site-packages/mlflow/data/dataset_source_registry.py:150: UserWarning: The specified dataset source can be interpreted in multiple ways: LocalArtifactDatasetSource, LocalArtifactDatasetSource. MLflow will assume that this is a LocalArtifactDatasetSource source.\n",
      "  return _dataset_source_registry.resolve(\n",
      "/home/sagemaker-user/aws-rag-system-eval/.conda/lib/python3.11/site-packages/mlflow/data/digest_utils.py:29: FutureWarning: DataFrame.applymap has been deprecated. Use DataFrame.map instead.\n",
      "  string_columns = trimmed_df.columns[(df.applymap(type) == str).all(0)]\n"
     ]
    },
    {
     "name": "stdout",
     "output_type": "stream",
     "text": [
      "ragas_faithfulness mean: 0.8554232804232804\n",
      "ragas_answer_relevancy mean: 0.581132116850485\n",
      "ragas_answer_similarity mean: 0.42857142857142855\n",
      "ragas_answer_correctness mean: 0.6407509157509158\n",
      "ragas_context_recall: 0.1588126159554731\n",
      "ragas_context_precision: 0.13657778606741774\n"
     ]
    }
   ],
   "source": [
    "## 1b. create RAG system with CharTextSplitter and then run RAG system evaluation and log it in mlfow\n",
    "rag_system_details = {\n",
    "    \"aospy_client\": aospy_client,\n",
    "    \"vector_store\": \"\",\n",
    "    \"llm\": llm01,\n",
    "    \"kb_id\": \"\",\n",
    "    \"splitter_name\": \"RecursiveCharacterTextSplitter\",\n",
    "    \"text_chunks\": char_text_list,\n",
    "    \"index_name\": \"rag-eval-charactertextplitter\",\n",
    "    \"index_dimension\": 1536,\n",
    "    \"embedding_model_name\": 'bedrock_embeddings',\n",
    "    \"embedding_model\": BedrockEmbeddings(client=bedrock_runtime),\n",
    "    \"prompt_template_name\": \"PROMPT_CLAUDE_1\",\n",
    "    \"prompt_template\": PROMPT_CLAUDE_1,\n",
    "    \"chain_type\": \"stuff\",\n",
    "    \"search_type\": \"similarity\", # alternative: \"mmr\", or \"similarity_score_threshold\" (Default: similarity)\n",
    "    \"retriever_k\": 4, # Amount of documents to return (Default: 4)\n",
    "    \"score_threshold\": 0, # Minimum relevance threshold for similarity_score_threshold\n",
    "    \"fetch_k\": 20, # Amount of documents to pass to MMR algorithm (Default: 20)\n",
    "    \"lambda_mult\": 0.5, # Diversity of results returned by MMR, 1 for minimum diversity and 0 for maximum. (Default: 0.5)\n",
    "         \n",
    "}\n",
    "run_name, vector_store, qa_chain = create_rag(rag_system_details)\n",
    "\n",
    "rag_system_eval_details = {\n",
    "    \"experiment_name\": experiment_name,\n",
    "    \"run_name\": run_name,\n",
    "    \"qa_chain\": qa_chain,\n",
    "    \"ground_truth\": prompts\n",
    "}\n",
    "ragas_eval_result2 = run_ragas_eval(rag_system_eval_details, rag_system_details)\n"
   ]
  },
  {
   "cell_type": "code",
   "execution_count": 19,
   "id": "a306ca89",
   "metadata": {},
   "outputs": [
    {
     "data": {
      "image/png": "[encoded data removed]",
      "text/plain": [
       "<Figure size 1000x600 with 1 Axes>"
      ]
     },
     "metadata": {},
     "output_type": "display_data"
    }
   ],
   "source": [
    "## 1c. Review RecursiveCharacterTextSplitter vs TokenTextSplitter results\n",
    "import matplotlib.pyplot as plt\n",
    "\n",
    "# Extract metric names and mean values\n",
    "metric_names = list(ragas_eval_result.keys())\n",
    "ragas_eval_result_means = list(ragas_eval_result.values())\n",
    "ragas_eval_result2_means = list(ragas_eval_result2.values())\n",
    "\n",
    "# Create comparison chart\n",
    "fig, ax = plt.subplots(figsize=(10, 6))\n",
    "\n",
    "bar_width = 0.35\n",
    "index = range(len(metric_names))\n",
    "\n",
    "bar1 = ax.bar(index, ragas_eval_result_means, bar_width, label='TokenTextSplitter')\n",
    "bar2 = ax.bar([i + bar_width for i in index], ragas_eval_result2_means, bar_width, label='CharTextSplitter')\n",
    "\n",
    "ax.set_xlabel('Metrics')\n",
    "ax.set_ylabel('Mean Values')\n",
    "ax.set_title('Comparison of Metrics between TokenTextSplitter and CharTextSplitter')\n",
    "ax.set_xticks([i + bar_width / 2 for i in index])\n",
    "ax.set_xticklabels(metric_names, rotation=45, ha='right')\n",
    "ax.legend()\n",
    "\n",
    "plt.tight_layout()\n",
    "plt.show()\n"
   ]
  },
  {
   "cell_type": "markdown",
   "id": "4763e48a",
   "metadata": {},
   "source": [
    "### 1c. Review RecursiveCharacterTextSplitter vs TokenTextSplitter results\n",
    "Metrics such as context_recall and context_precision are low, yet context_precision for TokenTextSplitter is slightly higher.\n",
    "\n",
    "So let's proceed with TokenTextSplitter going forward."
   ]
  },
  {
   "cell_type": "markdown",
   "id": "596e0753",
   "metadata": {},
   "source": [
    "### 8.2) Evaluate impact of different embeddings models\n",
    "\n",
    "In this second eval, we proceed with the TokenTextSplitter, leave the  everything else constannt, and only change the embeddings models."
   ]
  },
  {
   "cell_type": "code",
   "execution_count": 21,
   "id": "f4e789e6",
   "metadata": {},
   "outputs": [
    {
     "name": "stdout",
     "output_type": "stream",
     "text": [
      "evaluating with [context_precision]\n"
     ]
    },
    {
     "name": "stderr",
     "output_type": "stream",
     "text": [
      "100%|██████████| 2/2 [01:43<00:00, 51.98s/it]\n"
     ]
    },
    {
     "name": "stdout",
     "output_type": "stream",
     "text": [
      "evaluating with [faithfulness]\n"
     ]
    },
    {
     "name": "stderr",
     "output_type": "stream",
     "text": [
      "100%|██████████| 2/2 [05:03<00:00, 151.87s/it]\n"
     ]
    },
    {
     "name": "stdout",
     "output_type": "stream",
     "text": [
      "evaluating with [context_recall]\n"
     ]
    },
    {
     "name": "stderr",
     "output_type": "stream",
     "text": [
      "100%|██████████| 2/2 [02:43<00:00, 81.54s/it] \n"
     ]
    },
    {
     "name": "stdout",
     "output_type": "stream",
     "text": [
      "evaluating with [answer_relevancy]\n"
     ]
    },
    {
     "name": "stderr",
     "output_type": "stream",
     "text": [
      "100%|██████████| 2/2 [00:46<00:00, 23.04s/it]\n"
     ]
    },
    {
     "name": "stdout",
     "output_type": "stream",
     "text": [
      "evaluating with [answer_similarity]\n"
     ]
    },
    {
     "name": "stderr",
     "output_type": "stream",
     "text": [
      "100%|██████████| 2/2 [00:00<00:00,  5.72it/s]\n"
     ]
    },
    {
     "name": "stdout",
     "output_type": "stream",
     "text": [
      "evaluating with [answer_correctness]\n"
     ]
    },
    {
     "name": "stderr",
     "output_type": "stream",
     "text": [
      "100%|██████████| 2/2 [04:33<00:00, 136.71s/it]\n",
      "/home/sagemaker-user/aws-rag-system-eval/.conda/lib/python3.11/site-packages/mlflow/data/dataset_source_registry.py:150: UserWarning: The specified dataset source can be interpreted in multiple ways: LocalArtifactDatasetSource, LocalArtifactDatasetSource. MLflow will assume that this is a LocalArtifactDatasetSource source.\n",
      "  return _dataset_source_registry.resolve(\n",
      "/home/sagemaker-user/aws-rag-system-eval/.conda/lib/python3.11/site-packages/mlflow/data/digest_utils.py:29: FutureWarning: DataFrame.applymap has been deprecated. Use DataFrame.map instead.\n",
      "  string_columns = trimmed_df.columns[(df.applymap(type) == str).all(0)]\n"
     ]
    },
    {
     "name": "stdout",
     "output_type": "stream",
     "text": [
      "ragas_faithfulness mean: 0.9191697191697191\n",
      "ragas_answer_relevancy mean: 0.5883576346383949\n",
      "ragas_answer_similarity mean: 0.38095238095238093\n",
      "ragas_answer_correctness mean: 0.6420634920634921\n",
      "ragas_context_recall: 0.12754718048835698\n",
      "ragas_context_precision: 0.16247723197571398\n"
     ]
    }
   ],
   "source": [
    "# 2. Embedding model: amazon.titan-embed-text-v1 vs cohere.embed-multilingual-v3\n",
    "## 2a. Create RAG system with amazon.titan-embed-text-v1\n",
    "from langchain.embeddings import BedrockEmbeddings\n",
    "\n",
    "embedding_model = BedrockEmbeddings(\n",
    "    client=bedrock_runtime,\n",
    "    model_id=\"amazon.titan-embed-text-v1\"\n",
    ")\n",
    "\n",
    "rag_system_details = {\n",
    "    \"aospy_client\": aospy_client,\n",
    "    \"vector_store\": \"\",\n",
    "    \"llm\": llm01,\n",
    "    \"kb_id\": \"\",\n",
    "    \"splitter_name\": \"TokenTextSplitter\",\n",
    "    \"text_chunks\": token_text_list,\n",
    "    \"index_name\": \"rag-eval-tokentextsplitter_1536\",\n",
    "    \"index_dimension\": 1536,\n",
    "    \"embedding_model_name\": 'amazon.titan-embed-text-v1',\n",
    "    \"embedding_model\": embedding_model,\n",
    "    \"prompt_template_name\": \"PROMPT_CLAUDE_1\",\n",
    "    \"prompt_template\": PROMPT_CLAUDE_1,\n",
    "    \"chain_type\": \"stuff\",\n",
    "    \"search_type\": \"similarity\", # alternative: \"mmr\", or \"similarity_score_threshold\" (Default: similarity)\n",
    "    \"retriever_k\": 4, # Amount of documents to return (Default: 4)\n",
    "    \"score_threshold\": 0, # Minimum relevance threshold for similarity_score_threshold\n",
    "    \"fetch_k\": 20, # Amount of documents to pass to MMR algorithm (Default: 20)\n",
    "    \"lambda_mult\": 0.5, # Diversity of results returned by MMR, 1 for minimum diversity and 0 for maximum. (Default: 0.5)\n",
    "         \n",
    "}\n",
    "run_name, vector_store, qa_chain = create_rag(rag_system_details)\n",
    "\n",
    "rag_system_eval_details = {\n",
    "    \"experiment_name\": experiment_name,\n",
    "    \"run_name\": run_name,\n",
    "    \"qa_chain\": qa_chain,\n",
    "    \"ground_truth\": prompts\n",
    "}\n",
    "ragas_eval_result3 = run_ragas_eval(rag_system_eval_details, rag_system_details)\n"
   ]
  },
  {
   "cell_type": "code",
   "execution_count": 22,
   "id": "e361a228",
   "metadata": {},
   "outputs": [
    {
     "name": "stdout",
     "output_type": "stream",
     "text": [
      "evaluating with [context_precision]\n"
     ]
    },
    {
     "name": "stderr",
     "output_type": "stream",
     "text": [
      "100%|██████████| 2/2 [01:04<00:00, 32.48s/it]\n"
     ]
    },
    {
     "name": "stdout",
     "output_type": "stream",
     "text": [
      "evaluating with [faithfulness]\n"
     ]
    },
    {
     "name": "stderr",
     "output_type": "stream",
     "text": [
      "100%|██████████| 2/2 [03:21<00:00, 100.57s/it]\n"
     ]
    },
    {
     "name": "stdout",
     "output_type": "stream",
     "text": [
      "evaluating with [context_recall]\n"
     ]
    },
    {
     "name": "stderr",
     "output_type": "stream",
     "text": [
      "100%|██████████| 2/2 [01:57<00:00, 58.70s/it]\n"
     ]
    },
    {
     "name": "stdout",
     "output_type": "stream",
     "text": [
      "evaluating with [answer_relevancy]\n"
     ]
    },
    {
     "name": "stderr",
     "output_type": "stream",
     "text": [
      "100%|██████████| 2/2 [00:32<00:00, 16.37s/it]\n"
     ]
    },
    {
     "name": "stdout",
     "output_type": "stream",
     "text": [
      "evaluating with [answer_similarity]\n"
     ]
    },
    {
     "name": "stderr",
     "output_type": "stream",
     "text": [
      "100%|██████████| 2/2 [00:00<00:00,  4.77it/s]\n"
     ]
    },
    {
     "name": "stdout",
     "output_type": "stream",
     "text": [
      "evaluating with [answer_correctness]\n"
     ]
    },
    {
     "name": "stderr",
     "output_type": "stream",
     "text": [
      "100%|██████████| 2/2 [03:31<00:00, 105.66s/it]\n",
      "/home/sagemaker-user/aws-rag-system-eval/.conda/lib/python3.11/site-packages/mlflow/data/dataset_source_registry.py:150: UserWarning: The specified dataset source can be interpreted in multiple ways: LocalArtifactDatasetSource, LocalArtifactDatasetSource. MLflow will assume that this is a LocalArtifactDatasetSource source.\n",
      "  return _dataset_source_registry.resolve(\n",
      "/home/sagemaker-user/aws-rag-system-eval/.conda/lib/python3.11/site-packages/mlflow/data/digest_utils.py:29: FutureWarning: DataFrame.applymap has been deprecated. Use DataFrame.map instead.\n",
      "  string_columns = trimmed_df.columns[(df.applymap(type) == str).all(0)]\n"
     ]
    },
    {
     "name": "stdout",
     "output_type": "stream",
     "text": [
      "ragas_faithfulness mean: 0.9287749287749288\n",
      "ragas_answer_relevancy mean: 0.501361185077417\n",
      "ragas_answer_similarity mean: 0.38095238095238093\n",
      "ragas_answer_correctness mean: 0.6014448514448514\n",
      "ragas_context_recall: 0.10589020767592196\n",
      "ragas_context_precision: 0.10399429483387268\n"
     ]
    }
   ],
   "source": [
    "## 2b. Create RAG system with cohere.embed-multilingual-v3\n",
    "from langchain.embeddings import BedrockEmbeddings\n",
    "\n",
    "embedding_model = BedrockEmbeddings(\n",
    "    client=bedrock_runtime,\n",
    "    model_id=\"cohere.embed-multilingual-v3\"\n",
    ")\n",
    "\n",
    "\n",
    "rag_system_details = {\n",
    "    \"aospy_client\": aospy_client,\n",
    "    \"vector_store\": \"\",\n",
    "    \"llm\": llm01,\n",
    "    \"kb_id\": \"\",\n",
    "    \"splitter_name\": \"TokenTextSplitter\",\n",
    "    \"text_chunks\": token_text_list,\n",
    "    \"index_name\": \"rag-eval-tokentextsplitter_1024\",\n",
    "    \"index_dimension\": 1024,\n",
    "    \"embedding_model_name\": 'cohere.embed-multilingual-v3',\n",
    "    \"embedding_model\": embedding_model,\n",
    "    \"prompt_template_name\": \"PROMPT_CLAUDE_1\",\n",
    "    \"prompt_template\": PROMPT_CLAUDE_1,\n",
    "    \"chain_type\": \"stuff\",\n",
    "    \"search_type\": \"similarity\", # alternative: \"mmr\", or \"similarity_score_threshold\" (Default: similarity)\n",
    "    \"retriever_k\": 4, # Amount of documents to return (Default: 4)\n",
    "    \"score_threshold\": 0, # Minimum relevance threshold for similarity_score_threshold\n",
    "    \"fetch_k\": 20, # Amount of documents to pass to MMR algorithm (Default: 20)\n",
    "    \"lambda_mult\": 0.5, # Diversity of results returned by MMR, 1 for minimum diversity and 0 for maximum. (Default: 0.5)\n",
    "         \n",
    "}\n",
    "run_name, vector_store, qa_chain = create_rag(rag_system_details)\n",
    "\n",
    "rag_system_eval_details = {\n",
    "    \"experiment_name\": experiment_name,\n",
    "    \"run_name\": run_name,\n",
    "    \"qa_chain\": qa_chain,\n",
    "    \"ground_truth\": prompts\n",
    "}\n",
    "ragas_eval_result4 = run_ragas_eval(rag_system_eval_details, rag_system_details)"
   ]
  },
  {
   "cell_type": "code",
   "execution_count": 23,
   "id": "5658c784",
   "metadata": {},
   "outputs": [
    {
     "data": {
      "image/png": "[encoded data removed]",
      "text/plain": [
       "<Figure size 1000x600 with 1 Axes>"
      ]
     },
     "metadata": {},
     "output_type": "display_data"
    }
   ],
   "source": [
    "# 2c. Review Embedding model: amazon.titan-embed-text-v1 vs cohere.embed-multilingual-v3 results\n",
    "\n",
    "import matplotlib.pyplot as plt\n",
    "\n",
    "# Extract metric names and mean values\n",
    "metric_names = list(ragas_eval_result.keys())\n",
    "ragas_eval_result3_means = list(ragas_eval_result3.values())\n",
    "ragas_eval_result4_means = list(ragas_eval_result4.values())\n",
    "\n",
    "# Create comparison chart\n",
    "fig, ax = plt.subplots(figsize=(10, 6))\n",
    "\n",
    "bar_width = 0.35\n",
    "index = range(len(metric_names))\n",
    "\n",
    "bar1 = ax.bar(index, ragas_eval_result3_means, bar_width, label='amazon.titan-embed-text-v1')\n",
    "bar2 = ax.bar([i + bar_width for i in index], ragas_eval_result4_means, bar_width, label='cohere.embed-multilingual-v3')\n",
    "\n",
    "ax.set_xlabel('Metrics')\n",
    "ax.set_ylabel('Mean Values')\n",
    "ax.set_title('Comparison of Metrics between amazon.titan-embed-text-v1 and cohere.embed-multilingual-v3')\n",
    "ax.set_xticks([i + bar_width / 2 for i in index])\n",
    "ax.set_xticklabels(metric_names, rotation=45, ha='right')\n",
    "ax.legend()\n",
    "\n",
    "plt.tight_layout()\n",
    "plt.show()"
   ]
  },
  {
   "cell_type": "markdown",
   "id": "85354e91",
   "metadata": {},
   "source": [
    "### 2c. Review Embedding model: amazon.titan-embed-text-v1 vs cohere.embed-multilingual-v3 results\n",
    "Context recall and context precision is still low, but slightly better with the Titan embeddings model."
   ]
  },
  {
   "cell_type": "markdown",
   "id": "1f47cbf2",
   "metadata": {},
   "source": [
    "### 8.3) Evaluate impact of different retriever search types"
   ]
  },
  {
   "cell_type": "code",
   "execution_count": 24,
   "id": "ac49fadc",
   "metadata": {},
   "outputs": [
    {
     "name": "stdout",
     "output_type": "stream",
     "text": [
      "use existing vector store: <langchain_community.vectorstores.opensearch_vector_search.OpenSearchVectorSearch object at 0x7f16669f0510>\n",
      "evaluating with [context_precision]\n"
     ]
    },
    {
     "name": "stderr",
     "output_type": "stream",
     "text": [
      "100%|██████████| 2/2 [01:12<00:00, 36.12s/it]\n"
     ]
    },
    {
     "name": "stdout",
     "output_type": "stream",
     "text": [
      "evaluating with [faithfulness]\n"
     ]
    },
    {
     "name": "stderr",
     "output_type": "stream",
     "text": [
      "100%|██████████| 2/2 [03:21<00:00, 100.90s/it]\n"
     ]
    },
    {
     "name": "stdout",
     "output_type": "stream",
     "text": [
      "evaluating with [context_recall]\n"
     ]
    },
    {
     "name": "stderr",
     "output_type": "stream",
     "text": [
      "100%|██████████| 2/2 [01:43<00:00, 52.00s/it]\n"
     ]
    },
    {
     "name": "stdout",
     "output_type": "stream",
     "text": [
      "evaluating with [answer_relevancy]\n"
     ]
    },
    {
     "name": "stderr",
     "output_type": "stream",
     "text": [
      "100%|██████████| 2/2 [00:46<00:00, 23.49s/it]\n"
     ]
    },
    {
     "name": "stdout",
     "output_type": "stream",
     "text": [
      "evaluating with [answer_similarity]\n"
     ]
    },
    {
     "name": "stderr",
     "output_type": "stream",
     "text": [
      "100%|██████████| 2/2 [00:00<00:00,  5.06it/s]\n"
     ]
    },
    {
     "name": "stdout",
     "output_type": "stream",
     "text": [
      "evaluating with [answer_correctness]\n"
     ]
    },
    {
     "name": "stderr",
     "output_type": "stream",
     "text": [
      "100%|██████████| 2/2 [03:47<00:00, 113.76s/it]\n",
      "/home/sagemaker-user/aws-rag-system-eval/.conda/lib/python3.11/site-packages/mlflow/data/dataset_source_registry.py:150: UserWarning: The specified dataset source can be interpreted in multiple ways: LocalArtifactDatasetSource, LocalArtifactDatasetSource. MLflow will assume that this is a LocalArtifactDatasetSource source.\n",
      "  return _dataset_source_registry.resolve(\n",
      "/home/sagemaker-user/aws-rag-system-eval/.conda/lib/python3.11/site-packages/mlflow/data/digest_utils.py:29: FutureWarning: DataFrame.applymap has been deprecated. Use DataFrame.map instead.\n",
      "  string_columns = trimmed_df.columns[(df.applymap(type) == str).all(0)]\n"
     ]
    },
    {
     "name": "stdout",
     "output_type": "stream",
     "text": [
      "ragas_faithfulness mean: 0.9248066748066748\n",
      "ragas_answer_relevancy mean: 0.5034810192793387\n",
      "ragas_answer_similarity mean: 0.38095238095238093\n",
      "ragas_answer_correctness mean: 0.6222527472527473\n",
      "ragas_context_recall: 0.11676683105254536\n",
      "ragas_context_precision: 0.10643629727587511\n"
     ]
    }
   ],
   "source": [
    "# 3. retriever: OpenSearch VectoreStoreRetriever search types “similarity” vs “mmr” vs KnowledgeBase Retriever\n",
    "## 3a. Create RAG system with “similarity”\n",
    "from langchain.embeddings import BedrockEmbeddings\n",
    "\n",
    "embedding_model = BedrockEmbeddings(\n",
    "    client=bedrock_runtime,\n",
    "    model_id=\"cohere.embed-multilingual-v3\"\n",
    ")\n",
    "\n",
    "rag_system_details = {\n",
    "    \"aospy_client\": aospy_client,\n",
    "    \"vector_store\": vector_store,\n",
    "    \"llm\": llm01,\n",
    "    \"kb_id\": \"\",\n",
    "    \"splitter_name\": \"TokenTextSplitter\",\n",
    "    \"text_chunks\": token_text_list,\n",
    "    \"index_name\": \"rag-eval-tokentextsplitter_1024\",\n",
    "    \"index_dimension\": 1024,\n",
    "    \"embedding_model_name\": 'cohere.embed-multilingual-v3',\n",
    "    \"embedding_model\": embedding_model,\n",
    "    \"prompt_template_name\": \"PROMPT_CLAUDE_1\",\n",
    "    \"prompt_template\": PROMPT_CLAUDE_1,\n",
    "    \"chain_type\": \"stuff\",\n",
    "    \"search_type\": \"similarity\", # alternative: \"mmr\", or \"similarity_score_threshold\" (Default: similarity)\n",
    "    \"retriever_k\": 4, # Amount of documents to return (Default: 4)\n",
    "    \"score_threshold\": 0, # Minimum relevance threshold for similarity_score_threshold\n",
    "    \"fetch_k\": 20, # Amount of documents to pass to MMR algorithm (Default: 20)\n",
    "    \"lambda_mult\": 0.5, # Diversity of results returned by MMR, 1 for minimum diversity and 0 for maximum. (Default: 0.5)\n",
    "         \n",
    "}\n",
    "run_name, vector_store, qa_chain = create_rag(rag_system_details)\n",
    "\n",
    "rag_system_eval_details = {\n",
    "    \"experiment_name\": experiment_name,\n",
    "    \"run_name\": run_name,\n",
    "    \"qa_chain\": qa_chain,\n",
    "    \"ground_truth\": prompts\n",
    "}\n",
    "ragas_eval_result5 = run_ragas_eval(rag_system_eval_details, rag_system_details)"
   ]
  },
  {
   "cell_type": "code",
   "execution_count": 25,
   "id": "a0a0f673",
   "metadata": {},
   "outputs": [
    {
     "name": "stdout",
     "output_type": "stream",
     "text": [
      "use existing vector store: <langchain_community.vectorstores.opensearch_vector_search.OpenSearchVectorSearch object at 0x7f16669f0510>\n",
      "Question What shipping challenges does Amazon face? raised ValueError: could not convert string to float: ' <score>'\n",
      "evaluating with [context_precision]\n"
     ]
    },
    {
     "name": "stderr",
     "output_type": "stream",
     "text": [
      "100%|██████████| 2/2 [00:52<00:00, 26.22s/it]\n"
     ]
    },
    {
     "name": "stdout",
     "output_type": "stream",
     "text": [
      "evaluating with [faithfulness]\n"
     ]
    },
    {
     "name": "stderr",
     "output_type": "stream",
     "text": [
      "100%|██████████| 2/2 [03:49<00:00, 114.90s/it]\n"
     ]
    },
    {
     "name": "stdout",
     "output_type": "stream",
     "text": [
      "evaluating with [context_recall]\n"
     ]
    },
    {
     "name": "stderr",
     "output_type": "stream",
     "text": [
      "100%|██████████| 2/2 [01:50<00:00, 55.14s/it]\n"
     ]
    },
    {
     "name": "stdout",
     "output_type": "stream",
     "text": [
      "evaluating with [answer_relevancy]\n"
     ]
    },
    {
     "name": "stderr",
     "output_type": "stream",
     "text": [
      "100%|██████████| 2/2 [00:43<00:00, 21.79s/it]\n"
     ]
    },
    {
     "name": "stdout",
     "output_type": "stream",
     "text": [
      "evaluating with [answer_similarity]\n"
     ]
    },
    {
     "name": "stderr",
     "output_type": "stream",
     "text": [
      "100%|██████████| 2/2 [00:00<00:00,  4.97it/s]\n"
     ]
    },
    {
     "name": "stdout",
     "output_type": "stream",
     "text": [
      "evaluating with [answer_correctness]\n"
     ]
    },
    {
     "name": "stderr",
     "output_type": "stream",
     "text": [
      "100%|██████████| 2/2 [04:48<00:00, 144.50s/it]\n",
      "/home/sagemaker-user/aws-rag-system-eval/.conda/lib/python3.11/site-packages/mlflow/data/dataset_source_registry.py:150: UserWarning: The specified dataset source can be interpreted in multiple ways: LocalArtifactDatasetSource, LocalArtifactDatasetSource. MLflow will assume that this is a LocalArtifactDatasetSource source.\n",
      "  return _dataset_source_registry.resolve(\n",
      "/home/sagemaker-user/aws-rag-system-eval/.conda/lib/python3.11/site-packages/mlflow/data/digest_utils.py:29: FutureWarning: DataFrame.applymap has been deprecated. Use DataFrame.map instead.\n",
      "  string_columns = trimmed_df.columns[(df.applymap(type) == str).all(0)]\n"
     ]
    },
    {
     "name": "stdout",
     "output_type": "stream",
     "text": [
      "ragas_faithfulness mean: 0.9484126984126985\n",
      "ragas_answer_relevancy mean: 0.5188185681542175\n",
      "ragas_answer_similarity mean: 0.38095238095238093\n",
      "ragas_answer_correctness mean: 0.6272893772893773\n",
      "ragas_context_recall: 0.16702032303536063\n",
      "ragas_context_precision: 0.09076703282584708\n"
     ]
    }
   ],
   "source": [
    "## 3b. Create RAG system with mmr\n",
    "from langchain.embeddings import BedrockEmbeddings\n",
    "\n",
    "embedding_model = BedrockEmbeddings(\n",
    "    client=bedrock_runtime,\n",
    "    model_id=\"cohere.embed-multilingual-v3\"\n",
    ")\n",
    "\n",
    "rag_system_details = {\n",
    "    \"aospy_client\": aospy_client,\n",
    "    \"vector_store\": vector_store,\n",
    "    \"llm\": llm01,\n",
    "    \"kb_id\": \"\",\n",
    "    \"splitter_name\": \"TokenTextSplitter\",\n",
    "    \"text_chunks\": token_text_list,\n",
    "    \"index_name\": \"rag-eval-tokentextsplitter_1024\",\n",
    "    \"index_dimension\": 1024,\n",
    "    \"embedding_model_name\": 'cohere.embed-multilingual-v3',\n",
    "    \"embedding_model\": embedding_model,\n",
    "    \"prompt_template_name\": \"PROMPT_CLAUDE_1\",\n",
    "    \"prompt_template\": PROMPT_CLAUDE_1,\n",
    "    \"chain_type\": \"stuff\",\n",
    "    \"search_type\": \"mmr\", # alternative: \"mmr\", or \"similarity_score_threshold\" (Default: similarity)\n",
    "    \"retriever_k\": 4, # Amount of documents to return (Default: 4)\n",
    "    \"score_threshold\": 0, # Minimum relevance threshold for similarity_score_threshold\n",
    "    \"fetch_k\": 20, # Amount of documents to pass to MMR algorithm (Default: 20)\n",
    "    \"lambda_mult\": 0.5, # Diversity of results returned by MMR, 1 for minimum diversity and 0 for maximum. (Default: 0.5)\n",
    "         \n",
    "}\n",
    "run_name, vector_store, qa_chain = create_rag(rag_system_details)\n",
    "\n",
    "rag_system_eval_details = {\n",
    "    \"experiment_name\": experiment_name,\n",
    "    \"run_name\": run_name,\n",
    "    \"qa_chain\": qa_chain,\n",
    "    \"ground_truth\": prompts\n",
    "}\n",
    "ragas_eval_result6 = run_ragas_eval(rag_system_eval_details, rag_system_details)"
   ]
  },
  {
   "cell_type": "code",
   "execution_count": 26,
   "id": "d3ad02dd",
   "metadata": {},
   "outputs": [
    {
     "name": "stdout",
     "output_type": "stream",
     "text": [
      "use existing vector store: <langchain_community.vectorstores.opensearch_vector_search.OpenSearchVectorSearch object at 0x7f16669f0510>\n"
     ]
    }
   ],
   "source": [
    "## 3c. Create RAG system with Bedrock Knowledge Base retriever\n",
    "from langchain.embeddings import BedrockEmbeddings\n",
    "\n",
    "embedding_model = BedrockEmbeddings(\n",
    "    client=bedrock_runtime,\n",
    "    model_id=\"cohere.embed-multilingual-v3\"\n",
    ")\n",
    "\n",
    "rag_system_details = {\n",
    "    \"aospy_client\": aospy_client,\n",
    "    \"vector_store\": vector_store,\n",
    "    \"llm\": llm01,\n",
    "    \"kb_id\": os.environ['BEDROCK_KNOWLEDGEBASE_ID'],\n",
    "    \"splitter_name\": \"TokenTextSplitter\",\n",
    "    \"text_chunks\": token_text_list,\n",
    "    \"index_name\": \"rag-eval-tokentextsplitter_1024\",\n",
    "    \"index_dimension\": 1024,\n",
    "    \"embedding_model_name\": 'cohere.embed-multilingual-v3',\n",
    "    \"embedding_model\": embedding_model,\n",
    "    \"prompt_template_name\": \"PROMPT_CLAUDE_1\",\n",
    "    \"prompt_template\": PROMPT_CLAUDE_1,\n",
    "    \"chain_type\": \"stuff\",\n",
    "    \"search_type\": \"mmr\", # alternative: \"mmr\", or \"similarity_score_threshold\" (Default: similarity)\n",
    "    \"retriever_k\": 4, # Amount of documents to return (Default: 4)\n",
    "    \"score_threshold\": 0, # Minimum relevance threshold for similarity_score_threshold\n",
    "    \"fetch_k\": 20, # Amount of documents to pass to MMR algorithm (Default: 20)\n",
    "    \"lambda_mult\": 0.5, # Diversity of results returned by MMR, 1 for minimum diversity and 0 for maximum. (Default: 0.5)\n",
    "         \n",
    "}\n",
    "run_name, vector_store, qa_chain = create_rag(rag_system_details)\n",
    "\n",
    "rag_system_eval_details = {\n",
    "    \"experiment_name\": experiment_name,\n",
    "    \"run_name\": run_name,\n",
    "    \"qa_chain\": qa_chain,\n",
    "    \"ground_truth\": prompts\n",
    "}\n",
    "ragas_eval_result7 = run_ragas_eval(rag_system_eval_details, rag_system_details)"
   ]
  },
  {
   "cell_type": "code",
   "execution_count": 29,
   "id": "87ba587a",
   "metadata": {},
   "outputs": [
    {
     "data": {
      "image/png": "[encoded data removed]",
      "text/plain": [
       "<Figure size 1000x600 with 1 Axes>"
      ]
     },
     "metadata": {},
     "output_type": "display_data"
    }
   ],
   "source": [
    "# 3d. Review “similarity” vs “mmr” vs Bedrock Knowledge Base retriever results\n",
    "\n",
    "import matplotlib.pyplot as plt\n",
    "\n",
    "# Extract metric names and mean values\n",
    "metric_names = list(ragas_eval_result.keys())\n",
    "ragas_eval_result5_means = list(ragas_eval_result5.values())\n",
    "ragas_eval_result6_means = list(ragas_eval_result6.values())\n",
    "#ragas_eval_result7_means = list(ragas_eval_result7.values())\n",
    "\n",
    "# Create comparison chart\n",
    "fig, ax = plt.subplots(figsize=(10, 6))\n",
    "\n",
    "bar_width = 0.35\n",
    "index = range(len(metric_names))\n",
    "\n",
    "bar1 = ax.bar(index, ragas_eval_result5_means, bar_width, label='similarity')\n",
    "bar2 = ax.bar([i + bar_width for i in index], ragas_eval_result6_means, bar_width, label='mmr')\n",
    "#bar3 = ax.bar([i + 2*bar_width for i in index], ragas_eval_result7_means, bar_width, label='bedrock_kb_retriever')\n",
    "ax.set_xlabel('Metrics')\n",
    "ax.set_ylabel('Mean Values')\n",
    "ax.set_title('Comparison of Metrics between “similarity” vs “mmr” vs Bedrock Knowledge Base retriever')\n",
    "ax.set_xticks([i + bar_width / 2 for i in index])\n",
    "ax.set_xticklabels(metric_names, rotation=45, ha='right')\n",
    "ax.legend()\n",
    "\n",
    "plt.tight_layout()\n",
    "plt.show()"
   ]
  },
  {
   "cell_type": "markdown",
   "id": "55649b25",
   "metadata": {},
   "source": [
    "### 3d. Review “similarity” vs “mmr” vs Bedrock Knowledge Base retriever results\n",
    "Metrics such as faithfullness are still low, but improved with mmr.\n",
    "\n"
   ]
  },
  {
   "cell_type": "markdown",
   "id": "e18d73f2",
   "metadata": {},
   "source": [
    "### 8.4) Evaluate impact of different prompt templates"
   ]
  },
  {
   "cell_type": "code",
   "execution_count": 30,
   "id": "d4366349",
   "metadata": {},
   "outputs": [
    {
     "name": "stdout",
     "output_type": "stream",
     "text": [
      "use existing vector store: <langchain_community.vectorstores.opensearch_vector_search.OpenSearchVectorSearch object at 0x7f16669f0510>\n",
      "Question What shipping challenges does Amazon face? raised ValueError: could not convert string to float: ' <score>'\n",
      "evaluating with [context_precision]\n"
     ]
    },
    {
     "name": "stderr",
     "output_type": "stream",
     "text": [
      "100%|██████████| 2/2 [01:06<00:00, 33.02s/it]\n"
     ]
    },
    {
     "name": "stdout",
     "output_type": "stream",
     "text": [
      "evaluating with [faithfulness]\n"
     ]
    },
    {
     "name": "stderr",
     "output_type": "stream",
     "text": [
      "100%|██████████| 2/2 [04:16<00:00, 128.20s/it]\n"
     ]
    },
    {
     "name": "stdout",
     "output_type": "stream",
     "text": [
      "evaluating with [context_recall]\n"
     ]
    },
    {
     "name": "stderr",
     "output_type": "stream",
     "text": [
      "100%|██████████| 2/2 [01:59<00:00, 59.78s/it]\n"
     ]
    },
    {
     "name": "stdout",
     "output_type": "stream",
     "text": [
      "evaluating with [answer_relevancy]\n"
     ]
    },
    {
     "name": "stderr",
     "output_type": "stream",
     "text": [
      "100%|██████████| 2/2 [00:50<00:00, 25.32s/it]\n"
     ]
    },
    {
     "name": "stdout",
     "output_type": "stream",
     "text": [
      "evaluating with [answer_similarity]\n"
     ]
    },
    {
     "name": "stderr",
     "output_type": "stream",
     "text": [
      "100%|██████████| 2/2 [00:00<00:00,  5.20it/s]\n"
     ]
    },
    {
     "name": "stdout",
     "output_type": "stream",
     "text": [
      "evaluating with [answer_correctness]\n"
     ]
    },
    {
     "name": "stderr",
     "output_type": "stream",
     "text": [
      "100%|██████████| 2/2 [03:49<00:00, 114.80s/it]\n",
      "/home/sagemaker-user/aws-rag-system-eval/.conda/lib/python3.11/site-packages/mlflow/data/dataset_source_registry.py:150: UserWarning: The specified dataset source can be interpreted in multiple ways: LocalArtifactDatasetSource, LocalArtifactDatasetSource. MLflow will assume that this is a LocalArtifactDatasetSource source.\n",
      "  return _dataset_source_registry.resolve(\n",
      "/home/sagemaker-user/aws-rag-system-eval/.conda/lib/python3.11/site-packages/mlflow/data/digest_utils.py:29: FutureWarning: DataFrame.applymap has been deprecated. Use DataFrame.map instead.\n",
      "  string_columns = trimmed_df.columns[(df.applymap(type) == str).all(0)]\n"
     ]
    },
    {
     "name": "stdout",
     "output_type": "stream",
     "text": [
      "ragas_faithfulness mean: 0.9801587301587301\n",
      "ragas_answer_relevancy mean: 0.5186970231415285\n",
      "ragas_answer_similarity mean: 0.38095238095238093\n",
      "ragas_answer_correctness mean: 0.6243131868131868\n",
      "ragas_context_recall: 0.16374608404683594\n",
      "ragas_context_precision: 0.09076703282584708\n"
     ]
    }
   ],
   "source": [
    "# 4. Prompt Template: For each LLM we evaluate two different prompt templates\n",
    "## 4a. Create RAG system with PROMPT_CLAUDE_1\n",
    "from langchain.embeddings import BedrockEmbeddings\n",
    "\n",
    "embedding_model = BedrockEmbeddings(\n",
    "    client=bedrock_runtime,\n",
    "    model_id=\"cohere.embed-multilingual-v3\"\n",
    ")\n",
    "\n",
    "rag_system_details = {\n",
    "    \"aospy_client\": aospy_client,\n",
    "    \"vector_store\": vector_store,\n",
    "    \"llm\": llm01,\n",
    "    \"kb_id\": \"\",\n",
    "    \"splitter_name\": \"TokenTextSplitter\",\n",
    "    \"text_chunks\": token_text_list,\n",
    "    \"index_name\": \"rag-eval-tokentextsplitter_1024\",\n",
    "    \"index_dimension\": 1024,\n",
    "    \"embedding_model_name\": 'cohere.embed-multilingual-v3',\n",
    "    \"embedding_model\": embedding_model,\n",
    "    \"prompt_template_name\": \"PROMPT_CLAUDE_1\",\n",
    "    \"prompt_template\": PROMPT_CLAUDE_1,\n",
    "    \"chain_type\": \"stuff\",\n",
    "    \"search_type\": \"mmr\", # alternative: \"mmr\", or \"similarity_score_threshold\" (Default: similarity)\n",
    "    \"retriever_k\": 4, # Amount of documents to return (Default: 4)\n",
    "    \"score_threshold\": 0, # Minimum relevance threshold for similarity_score_threshold\n",
    "    \"fetch_k\": 20, # Amount of documents to pass to MMR algorithm (Default: 20)\n",
    "    \"lambda_mult\": 0.5, # Diversity of results returned by MMR, 1 for minimum diversity and 0 for maximum. (Default: 0.5)\n",
    "         \n",
    "}\n",
    "run_name, vector_store, qa_chain = create_rag(rag_system_details)\n",
    "\n",
    "rag_system_eval_details = {\n",
    "    \"experiment_name\": experiment_name,\n",
    "    \"run_name\": run_name,\n",
    "    \"qa_chain\": qa_chain,\n",
    "    \"ground_truth\": prompts\n",
    "}\n",
    "ragas_eval_result8 = run_ragas_eval(rag_system_eval_details, rag_system_details)"
   ]
  },
  {
   "cell_type": "code",
   "execution_count": 31,
   "id": "32c597f8",
   "metadata": {},
   "outputs": [
    {
     "name": "stdout",
     "output_type": "stream",
     "text": [
      "use existing vector store: <langchain_community.vectorstores.opensearch_vector_search.OpenSearchVectorSearch object at 0x7f16669f0510>\n",
      "evaluating with [context_precision]\n"
     ]
    },
    {
     "name": "stderr",
     "output_type": "stream",
     "text": [
      "100%|██████████| 2/2 [01:03<00:00, 31.58s/it]\n"
     ]
    },
    {
     "name": "stdout",
     "output_type": "stream",
     "text": [
      "evaluating with [faithfulness]\n"
     ]
    },
    {
     "name": "stderr",
     "output_type": "stream",
     "text": [
      "100%|██████████| 2/2 [04:43<00:00, 142.00s/it]\n"
     ]
    },
    {
     "name": "stdout",
     "output_type": "stream",
     "text": [
      "evaluating with [context_recall]\n"
     ]
    },
    {
     "name": "stderr",
     "output_type": "stream",
     "text": [
      "100%|██████████| 2/2 [02:27<00:00, 73.88s/it] \n"
     ]
    },
    {
     "name": "stdout",
     "output_type": "stream",
     "text": [
      "evaluating with [answer_relevancy]\n"
     ]
    },
    {
     "name": "stderr",
     "output_type": "stream",
     "text": [
      "100%|██████████| 2/2 [00:38<00:00, 19.42s/it]\n"
     ]
    },
    {
     "name": "stdout",
     "output_type": "stream",
     "text": [
      "evaluating with [answer_similarity]\n"
     ]
    },
    {
     "name": "stderr",
     "output_type": "stream",
     "text": [
      "100%|██████████| 2/2 [00:00<00:00,  3.82it/s]\n"
     ]
    },
    {
     "name": "stdout",
     "output_type": "stream",
     "text": [
      "evaluating with [answer_correctness]\n"
     ]
    },
    {
     "name": "stderr",
     "output_type": "stream",
     "text": [
      "100%|██████████| 2/2 [04:07<00:00, 123.93s/it]\n",
      "/home/sagemaker-user/aws-rag-system-eval/.conda/lib/python3.11/site-packages/mlflow/data/dataset_source_registry.py:150: UserWarning: The specified dataset source can be interpreted in multiple ways: LocalArtifactDatasetSource, LocalArtifactDatasetSource. MLflow will assume that this is a LocalArtifactDatasetSource source.\n",
      "  return _dataset_source_registry.resolve(\n",
      "/home/sagemaker-user/aws-rag-system-eval/.conda/lib/python3.11/site-packages/mlflow/data/digest_utils.py:29: FutureWarning: DataFrame.applymap has been deprecated. Use DataFrame.map instead.\n",
      "  string_columns = trimmed_df.columns[(df.applymap(type) == str).all(0)]\n"
     ]
    },
    {
     "name": "stdout",
     "output_type": "stream",
     "text": [
      "ragas_faithfulness mean: 0.964429361488185\n",
      "ragas_answer_relevancy mean: 0.6873819347471701\n",
      "ragas_answer_similarity mean: 0.6190476190476191\n",
      "ragas_answer_correctness mean: 0.740807434084745\n",
      "ragas_context_recall: 0.16015919474566093\n",
      "ragas_context_precision: 0.09076703282584708\n"
     ]
    }
   ],
   "source": [
    "## 4b. Create RAG system with PROMPT_CLAUDE_2\n",
    "from langchain.embeddings import BedrockEmbeddings\n",
    "\n",
    "embedding_model = BedrockEmbeddings(\n",
    "    client=bedrock_runtime,\n",
    "    model_id=\"cohere.embed-multilingual-v3\"\n",
    ")\n",
    "\n",
    "rag_system_details = {\n",
    "    \"aospy_client\": aospy_client,\n",
    "    \"vector_store\": vector_store,\n",
    "    \"llm\": llm01,\n",
    "    \"kb_id\": \"\",\n",
    "    \"splitter_name\": \"TokenTextSplitter\",\n",
    "    \"text_chunks\": token_text_list,\n",
    "    \"index_name\": \"rag-eval-tokentextsplitter_1024\",\n",
    "    \"index_dimension\": 1024,\n",
    "    \"embedding_model_name\": 'cohere.embed-multilingual-v3',\n",
    "    \"embedding_model\": embedding_model,\n",
    "    \"prompt_template_name\": \"PROMPT_CLAUDE_2\",\n",
    "    \"prompt_template\": PROMPT_CLAUDE_2,\n",
    "    \"chain_type\": \"stuff\",\n",
    "    \"search_type\": \"mmr\", # alternative: \"mmr\", or \"similarity_score_threshold\" (Default: similarity)\n",
    "    \"retriever_k\": 4, # Amount of documents to return (Default: 4)\n",
    "    \"score_threshold\": 0, # Minimum relevance threshold for similarity_score_threshold\n",
    "    \"fetch_k\": 20, # Amount of documents to pass to MMR algorithm (Default: 20)\n",
    "    \"lambda_mult\": 0.5, # Diversity of results returned by MMR, 1 for minimum diversity and 0 for maximum. (Default: 0.5)\n",
    "         \n",
    "}\n",
    "run_name, vector_store, qa_chain = create_rag(rag_system_details)\n",
    "\n",
    "rag_system_eval_details = {\n",
    "    \"experiment_name\": experiment_name,\n",
    "    \"run_name\": run_name,\n",
    "    \"qa_chain\": qa_chain,\n",
    "    \"ground_truth\": prompts\n",
    "}\n",
    "ragas_eval_result9 = run_ragas_eval(rag_system_eval_details, rag_system_details)"
   ]
  },
  {
   "cell_type": "code",
   "execution_count": 32,
   "id": "128fa962",
   "metadata": {},
   "outputs": [
    {
     "data": {
      "image/png": "[encoded data removed]",
      "text/plain": [
       "<Figure size 1000x600 with 1 Axes>"
      ]
     },
     "metadata": {},
     "output_type": "display_data"
    }
   ],
   "source": [
    "# 4c. Review PROMPT_CLAUDE_1 vs PROMPT_CLAUDE_2 results\n",
    "\n",
    "import matplotlib.pyplot as plt\n",
    "\n",
    "# Extract metric names and mean values\n",
    "metric_names = list(ragas_eval_result.keys())\n",
    "ragas_eval_result8_means = list(ragas_eval_result8.values())\n",
    "ragas_eval_result9_means = list(ragas_eval_result9.values())\n",
    "\n",
    "# Create comparison chart\n",
    "fig, ax = plt.subplots(figsize=(10, 6))\n",
    "\n",
    "bar_width = 0.35\n",
    "index = range(len(metric_names))\n",
    "\n",
    "bar1 = ax.bar(index, ragas_eval_result8_means, bar_width, label='PROMPT_CLAUDE_1')\n",
    "bar2 = ax.bar([i + bar_width for i in index], ragas_eval_result9_means, bar_width, label='PROMPT_CLAUDE_2')\n",
    "\n",
    "ax.set_xlabel('Metrics')\n",
    "ax.set_ylabel('Mean Values')\n",
    "ax.set_title('Comparison of Metrics between PROMPT_CLAUDE_1 and PROMPT_CLAUDE_2 template')\n",
    "ax.set_xticks([i + bar_width / 2 for i in index])\n",
    "ax.set_xticklabels(metric_names, rotation=45, ha='right')\n",
    "ax.legend()\n",
    "\n",
    "plt.tight_layout()\n",
    "plt.show()"
   ]
  },
  {
   "cell_type": "markdown",
   "id": "bbd3e507",
   "metadata": {},
   "source": [
    "### 4c. Review PROMPT_CLAUDE_1 vs PROMPT_CLAUDE_2 results\n",
    "Prompt Template PROMPT_CLAUDE_2 performed better than PROMPT_CLAUDE_1.\n"
   ]
  },
  {
   "cell_type": "markdown",
   "id": "814cc8f6",
   "metadata": {},
   "source": [
    "# Conclusion / Things to improve"
   ]
  }
 ],
 "metadata": {
  "availableInstances": [
   {
    "_defaultOrder": 0,
    "_isFastLaunch": true,
    "category": "General purpose",
    "gpuNum": 0,
    "hideHardwareSpecs": false,
    "memoryGiB": 4,
    "name": "ml.t3.medium",
    "vcpuNum": 2
   },
   {
    "_defaultOrder": 1,
    "_isFastLaunch": false,
    "category": "General purpose",
    "gpuNum": 0,
    "hideHardwareSpecs": false,
    "memoryGiB": 8,
    "name": "ml.t3.large",
    "vcpuNum": 2
   },
   {
    "_defaultOrder": 2,
    "_isFastLaunch": false,
    "category": "General purpose",
    "gpuNum": 0,
    "hideHardwareSpecs": false,
    "memoryGiB": 16,
    "name": "ml.t3.xlarge",
    "vcpuNum": 4
   },
   {
    "_defaultOrder": 3,
    "_isFastLaunch": false,
    "category": "General purpose",
    "gpuNum": 0,
    "hideHardwareSpecs": false,
    "memoryGiB": 32,
    "name": "ml.t3.2xlarge",
    "vcpuNum": 8
   },
   {
    "_defaultOrder": 4,
    "_isFastLaunch": true,
    "category": "General purpose",
    "gpuNum": 0,
    "hideHardwareSpecs": false,
    "memoryGiB": 8,
    "name": "ml.m5.large",
    "vcpuNum": 2
   },
   {
    "_defaultOrder": 5,
    "_isFastLaunch": false,
    "category": "General purpose",
    "gpuNum": 0,
    "hideHardwareSpecs": false,
    "memoryGiB": 16,
    "name": "ml.m5.xlarge",
    "vcpuNum": 4
   },
   {
    "_defaultOrder": 6,
    "_isFastLaunch": false,
    "category": "General purpose",
    "gpuNum": 0,
    "hideHardwareSpecs": false,
    "memoryGiB": 32,
    "name": "ml.m5.2xlarge",
    "vcpuNum": 8
   },
   {
    "_defaultOrder": 7,
    "_isFastLaunch": false,
    "category": "General purpose",
    "gpuNum": 0,
    "hideHardwareSpecs": false,
    "memoryGiB": 64,
    "name": "ml.m5.4xlarge",
    "vcpuNum": 16
   },
   {
    "_defaultOrder": 8,
    "_isFastLaunch": false,
    "category": "General purpose",
    "gpuNum": 0,
    "hideHardwareSpecs": false,
    "memoryGiB": 128,
    "name": "ml.m5.8xlarge",
    "vcpuNum": 32
   },
   {
    "_defaultOrder": 9,
    "_isFastLaunch": false,
    "category": "General purpose",
    "gpuNum": 0,
    "hideHardwareSpecs": false,
    "memoryGiB": 192,
    "name": "ml.m5.12xlarge",
    "vcpuNum": 48
   },
   {
    "_defaultOrder": 10,
    "_isFastLaunch": false,
    "category": "General purpose",
    "gpuNum": 0,
    "hideHardwareSpecs": false,
    "memoryGiB": 256,
    "name": "ml.m5.16xlarge",
    "vcpuNum": 64
   },
   {
    "_defaultOrder": 11,
    "_isFastLaunch": false,
    "category": "General purpose",
    "gpuNum": 0,
    "hideHardwareSpecs": false,
    "memoryGiB": 384,
    "name": "ml.m5.24xlarge",
    "vcpuNum": 96
   },
   {
    "_defaultOrder": 12,
    "_isFastLaunch": false,
    "category": "General purpose",
    "gpuNum": 0,
    "hideHardwareSpecs": false,
    "memoryGiB": 8,
    "name": "ml.m5d.large",
    "vcpuNum": 2
   },
   {
    "_defaultOrder": 13,
    "_isFastLaunch": false,
    "category": "General purpose",
    "gpuNum": 0,
    "hideHardwareSpecs": false,
    "memoryGiB": 16,
    "name": "ml.m5d.xlarge",
    "vcpuNum": 4
   },
   {
    "_defaultOrder": 14,
    "_isFastLaunch": false,
    "category": "General purpose",
    "gpuNum": 0,
    "hideHardwareSpecs": false,
    "memoryGiB": 32,
    "name": "ml.m5d.2xlarge",
    "vcpuNum": 8
   },
   {
    "_defaultOrder": 15,
    "_isFastLaunch": false,
    "category": "General purpose",
    "gpuNum": 0,
    "hideHardwareSpecs": false,
    "memoryGiB": 64,
    "name": "ml.m5d.4xlarge",
    "vcpuNum": 16
   },
   {
    "_defaultOrder": 16,
    "_isFastLaunch": false,
    "category": "General purpose",
    "gpuNum": 0,
    "hideHardwareSpecs": false,
    "memoryGiB": 128,
    "name": "ml.m5d.8xlarge",
    "vcpuNum": 32
   },
   {
    "_defaultOrder": 17,
    "_isFastLaunch": false,
    "category": "General purpose",
    "gpuNum": 0,
    "hideHardwareSpecs": false,
    "memoryGiB": 192,
    "name": "ml.m5d.12xlarge",
    "vcpuNum": 48
   },
   {
    "_defaultOrder": 18,
    "_isFastLaunch": false,
    "category": "General purpose",
    "gpuNum": 0,
    "hideHardwareSpecs": false,
    "memoryGiB": 256,
    "name": "ml.m5d.16xlarge",
    "vcpuNum": 64
   },
   {
    "_defaultOrder": 19,
    "_isFastLaunch": false,
    "category": "General purpose",
    "gpuNum": 0,
    "hideHardwareSpecs": false,
    "memoryGiB": 384,
    "name": "ml.m5d.24xlarge",
    "vcpuNum": 96
   },
   {
    "_defaultOrder": 20,
    "_isFastLaunch": false,
    "category": "General purpose",
    "gpuNum": 0,
    "hideHardwareSpecs": true,
    "memoryGiB": 0,
    "name": "ml.geospatial.interactive",
    "supportedImageNames": [
     "sagemaker-geospatial-v1-0"
    ],
    "vcpuNum": 0
   },
   {
    "_defaultOrder": 21,
    "_isFastLaunch": true,
    "category": "Compute optimized",
    "gpuNum": 0,
    "hideHardwareSpecs": false,
    "memoryGiB": 4,
    "name": "ml.c5.large",
    "vcpuNum": 2
   },
   {
    "_defaultOrder": 22,
    "_isFastLaunch": false,
    "category": "Compute optimized",
    "gpuNum": 0,
    "hideHardwareSpecs": false,
    "memoryGiB": 8,
    "name": "ml.c5.xlarge",
    "vcpuNum": 4
   },
   {
    "_defaultOrder": 23,
    "_isFastLaunch": false,
    "category": "Compute optimized",
    "gpuNum": 0,
    "hideHardwareSpecs": false,
    "memoryGiB": 16,
    "name": "ml.c5.2xlarge",
    "vcpuNum": 8
   },
   {
    "_defaultOrder": 24,
    "_isFastLaunch": false,
    "category": "Compute optimized",
    "gpuNum": 0,
    "hideHardwareSpecs": false,
    "memoryGiB": 32,
    "name": "ml.c5.4xlarge",
    "vcpuNum": 16
   },
   {
    "_defaultOrder": 25,
    "_isFastLaunch": false,
    "category": "Compute optimized",
    "gpuNum": 0,
    "hideHardwareSpecs": false,
    "memoryGiB": 72,
    "name": "ml.c5.9xlarge",
    "vcpuNum": 36
   },
   {
    "_defaultOrder": 26,
    "_isFastLaunch": false,
    "category": "Compute optimized",
    "gpuNum": 0,
    "hideHardwareSpecs": false,
    "memoryGiB": 96,
    "name": "ml.c5.12xlarge",
    "vcpuNum": 48
   },
   {
    "_defaultOrder": 27,
    "_isFastLaunch": false,
    "category": "Compute optimized",
    "gpuNum": 0,
    "hideHardwareSpecs": false,
    "memoryGiB": 144,
    "name": "ml.c5.18xlarge",
    "vcpuNum": 72
   },
   {
    "_defaultOrder": 28,
    "_isFastLaunch": false,
    "category": "Compute optimized",
    "gpuNum": 0,
    "hideHardwareSpecs": false,
    "memoryGiB": 192,
    "name": "ml.c5.24xlarge",
    "vcpuNum": 96
   },
   {
    "_defaultOrder": 29,
    "_isFastLaunch": true,
    "category": "Accelerated computing",
    "gpuNum": 1,
    "hideHardwareSpecs": false,
    "memoryGiB": 16,
    "name": "ml.g4dn.xlarge",
    "vcpuNum": 4
   },
   {
    "_defaultOrder": 30,
    "_isFastLaunch": false,
    "category": "Accelerated computing",
    "gpuNum": 1,
    "hideHardwareSpecs": false,
    "memoryGiB": 32,
    "name": "ml.g4dn.2xlarge",
    "vcpuNum": 8
   },
   {
    "_defaultOrder": 31,
    "_isFastLaunch": false,
    "category": "Accelerated computing",
    "gpuNum": 1,
    "hideHardwareSpecs": false,
    "memoryGiB": 64,
    "name": "ml.g4dn.4xlarge",
    "vcpuNum": 16
   },
   {
    "_defaultOrder": 32,
    "_isFastLaunch": false,
    "category": "Accelerated computing",
    "gpuNum": 1,
    "hideHardwareSpecs": false,
    "memoryGiB": 128,
    "name": "ml.g4dn.8xlarge",
    "vcpuNum": 32
   },
   {
    "_defaultOrder": 33,
    "_isFastLaunch": false,
    "category": "Accelerated computing",
    "gpuNum": 4,
    "hideHardwareSpecs": false,
    "memoryGiB": 192,
    "name": "ml.g4dn.12xlarge",
    "vcpuNum": 48
   },
   {
    "_defaultOrder": 34,
    "_isFastLaunch": false,
    "category": "Accelerated computing",
    "gpuNum": 1,
    "hideHardwareSpecs": false,
    "memoryGiB": 256,
    "name": "ml.g4dn.16xlarge",
    "vcpuNum": 64
   },
   {
    "_defaultOrder": 35,
    "_isFastLaunch": false,
    "category": "Accelerated computing",
    "gpuNum": 1,
    "hideHardwareSpecs": false,
    "memoryGiB": 61,
    "name": "ml.p3.2xlarge",
    "vcpuNum": 8
   },
   {
    "_defaultOrder": 36,
    "_isFastLaunch": false,
    "category": "Accelerated computing",
    "gpuNum": 4,
    "hideHardwareSpecs": false,
    "memoryGiB": 244,
    "name": "ml.p3.8xlarge",
    "vcpuNum": 32
   },
   {
    "_defaultOrder": 37,
    "_isFastLaunch": false,
    "category": "Accelerated computing",
    "gpuNum": 8,
    "hideHardwareSpecs": false,
    "memoryGiB": 488,
    "name": "ml.p3.16xlarge",
    "vcpuNum": 64
   },
   {
    "_defaultOrder": 38,
    "_isFastLaunch": false,
    "category": "Accelerated computing",
    "gpuNum": 8,
    "hideHardwareSpecs": false,
    "memoryGiB": 768,
    "name": "ml.p3dn.24xlarge",
    "vcpuNum": 96
   },
   {
    "_defaultOrder": 39,
    "_isFastLaunch": false,
    "category": "Memory Optimized",
    "gpuNum": 0,
    "hideHardwareSpecs": false,
    "memoryGiB": 16,
    "name": "ml.r5.large",
    "vcpuNum": 2
   },
   {
    "_defaultOrder": 40,
    "_isFastLaunch": false,
    "category": "Memory Optimized",
    "gpuNum": 0,
    "hideHardwareSpecs": false,
    "memoryGiB": 32,
    "name": "ml.r5.xlarge",
    "vcpuNum": 4
   },
   {
    "_defaultOrder": 41,
    "_isFastLaunch": false,
    "category": "Memory Optimized",
    "gpuNum": 0,
    "hideHardwareSpecs": false,
    "memoryGiB": 64,
    "name": "ml.r5.2xlarge",
    "vcpuNum": 8
   },
   {
    "_defaultOrder": 42,
    "_isFastLaunch": false,
    "category": "Memory Optimized",
    "gpuNum": 0,
    "hideHardwareSpecs": false,
    "memoryGiB": 128,
    "name": "ml.r5.4xlarge",
    "vcpuNum": 16
   },
   {
    "_defaultOrder": 43,
    "_isFastLaunch": false,
    "category": "Memory Optimized",
    "gpuNum": 0,
    "hideHardwareSpecs": false,
    "memoryGiB": 256,
    "name": "ml.r5.8xlarge",
    "vcpuNum": 32
   },
   {
    "_defaultOrder": 44,
    "_isFastLaunch": false,
    "category": "Memory Optimized",
    "gpuNum": 0,
    "hideHardwareSpecs": false,
    "memoryGiB": 384,
    "name": "ml.r5.12xlarge",
    "vcpuNum": 48
   },
   {
    "_defaultOrder": 45,
    "_isFastLaunch": false,
    "category": "Memory Optimized",
    "gpuNum": 0,
    "hideHardwareSpecs": false,
    "memoryGiB": 512,
    "name": "ml.r5.16xlarge",
    "vcpuNum": 64
   },
   {
    "_defaultOrder": 46,
    "_isFastLaunch": false,
    "category": "Memory Optimized",
    "gpuNum": 0,
    "hideHardwareSpecs": false,
    "memoryGiB": 768,
    "name": "ml.r5.24xlarge",
    "vcpuNum": 96
   },
   {
    "_defaultOrder": 47,
    "_isFastLaunch": false,
    "category": "Accelerated computing",
    "gpuNum": 1,
    "hideHardwareSpecs": false,
    "memoryGiB": 16,
    "name": "ml.g5.xlarge",
    "vcpuNum": 4
   },
   {
    "_defaultOrder": 48,
    "_isFastLaunch": false,
    "category": "Accelerated computing",
    "gpuNum": 1,
    "hideHardwareSpecs": false,
    "memoryGiB": 32,
    "name": "ml.g5.2xlarge",
    "vcpuNum": 8
   },
   {
    "_defaultOrder": 49,
    "_isFastLaunch": false,
    "category": "Accelerated computing",
    "gpuNum": 1,
    "hideHardwareSpecs": false,
    "memoryGiB": 64,
    "name": "ml.g5.4xlarge",
    "vcpuNum": 16
   },
   {
    "_defaultOrder": 50,
    "_isFastLaunch": false,
    "category": "Accelerated computing",
    "gpuNum": 1,
    "hideHardwareSpecs": false,
    "memoryGiB": 128,
    "name": "ml.g5.8xlarge",
    "vcpuNum": 32
   },
   {
    "_defaultOrder": 51,
    "_isFastLaunch": false,
    "category": "Accelerated computing",
    "gpuNum": 1,
    "hideHardwareSpecs": false,
    "memoryGiB": 256,
    "name": "ml.g5.16xlarge",
    "vcpuNum": 64
   },
   {
    "_defaultOrder": 52,
    "_isFastLaunch": false,
    "category": "Accelerated computing",
    "gpuNum": 4,
    "hideHardwareSpecs": false,
    "memoryGiB": 192,
    "name": "ml.g5.12xlarge",
    "vcpuNum": 48
   },
   {
    "_defaultOrder": 53,
    "_isFastLaunch": false,
    "category": "Accelerated computing",
    "gpuNum": 4,
    "hideHardwareSpecs": false,
    "memoryGiB": 384,
    "name": "ml.g5.24xlarge",
    "vcpuNum": 96
   },
   {
    "_defaultOrder": 54,
    "_isFastLaunch": false,
    "category": "Accelerated computing",
    "gpuNum": 8,
    "hideHardwareSpecs": false,
    "memoryGiB": 768,
    "name": "ml.g5.48xlarge",
    "vcpuNum": 192
   },
   {
    "_defaultOrder": 55,
    "_isFastLaunch": false,
    "category": "Accelerated computing",
    "gpuNum": 8,
    "hideHardwareSpecs": false,
    "memoryGiB": 1152,
    "name": "ml.p4d.24xlarge",
    "vcpuNum": 96
   },
   {
    "_defaultOrder": 56,
    "_isFastLaunch": false,
    "category": "Accelerated computing",
    "gpuNum": 8,
    "hideHardwareSpecs": false,
    "memoryGiB": 1152,
    "name": "ml.p4de.24xlarge",
    "vcpuNum": 96
   },
   {
    "_defaultOrder": 57,
    "_isFastLaunch": false,
    "category": "Accelerated computing",
    "gpuNum": 0,
    "hideHardwareSpecs": false,
    "memoryGiB": 32,
    "name": "ml.trn1.2xlarge",
    "vcpuNum": 8
   },
   {
    "_defaultOrder": 58,
    "_isFastLaunch": false,
    "category": "Accelerated computing",
    "gpuNum": 0,
    "hideHardwareSpecs": false,
    "memoryGiB": 512,
    "name": "ml.trn1.32xlarge",
    "vcpuNum": 128
   },
   {
    "_defaultOrder": 59,
    "_isFastLaunch": false,
    "category": "Accelerated computing",
    "gpuNum": 0,
    "hideHardwareSpecs": false,
    "memoryGiB": 512,
    "name": "ml.trn1n.32xlarge",
    "vcpuNum": 128
   }
  ],
  "instance_type": "ml.t3.medium",
  "kernelspec": {
   "display_name": "rag-eval",
   "language": "python",
   "name": "python3"
  },
  "language_info": {
   "codemirror_mode": {
    "name": "ipython",
    "version": 3
   },
   "file_extension": ".py",
   "mimetype": "text/x-python",
   "name": "python",
   "nbconvert_exporter": "python",
   "pygments_lexer": "ipython3",
   "version": "3.11.8"
  },
  "toc-autonumbering": true,
  "toc-showmarkdowntxt": false
 },
 "nbformat": 4,
 "nbformat_minor": 5
}
